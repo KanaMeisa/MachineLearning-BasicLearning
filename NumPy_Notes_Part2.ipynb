{
 "cells": [
  {
   "cell_type": "markdown",
   "id": "0f7b5c98",
   "metadata": {},
   "source": [
    "# 迭代数组\n",
    "使用arange()函数创建一个 2  x 3 数组，并用nditer对它进行迭代"
   ]
  },
  {
   "cell_type": "code",
   "execution_count": 2,
   "id": "c7f2f6eb",
   "metadata": {},
   "outputs": [],
   "source": [
    "import numpy as np"
   ]
  },
  {
   "cell_type": "code",
   "execution_count": 3,
   "id": "eeb686f8",
   "metadata": {
    "scrolled": true
   },
   "outputs": [
    {
     "name": "stdout",
     "output_type": "stream",
     "text": [
      "0, 1, 2, 3, 4, 5, "
     ]
    }
   ],
   "source": [
    "a = np.arange(6).reshape(2, 3)\n",
    "for x in np.nditer(a):\n",
    "    print(x, end=', ')"
   ]
  },
  {
   "cell_type": "markdown",
   "id": "eed41d81",
   "metadata": {},
   "source": [
    "## 控制遍历顺序\n",
    "- for x in np.nditer(a, order = 'F') : Fortran order      列序优先\n",
    "- for x in np.nditer(a.T, order = 'C') : C order                行序优先"
   ]
  },
  {
   "cell_type": "code",
   "execution_count": 4,
   "id": "597373b7",
   "metadata": {},
   "outputs": [
    {
     "name": "stdout",
     "output_type": "stream",
     "text": [
      "原始数组是\n",
      "[[ 0  5 10 15]\n",
      " [20 25 30 35]\n",
      " [40 45 50 55]]\n",
      "\n",
      "原始数组的转置是\n",
      "[[ 0 20 40]\n",
      " [ 5 25 45]\n",
      " [10 30 50]\n",
      " [15 35 55]]\n",
      "\n",
      "以C风格排序\n",
      "[[ 0 20 40]\n",
      " [ 5 25 45]\n",
      " [10 30 50]\n",
      " [15 35 55]]\n",
      "0, 20, 40, 5, 25, 45, 10, 30, 50, 15, 35, 55, \n",
      "\n",
      "以F风格排序\n",
      "[[ 0 20 40]\n",
      " [ 5 25 45]\n",
      " [10 30 50]\n",
      " [15 35 55]]\n",
      "0, 5, 10, 15, 20, 25, 30, 35, 40, 45, 50, 55, "
     ]
    }
   ],
   "source": [
    "a = np.arange(0, 60, 5)\n",
    "a = a.reshape(3, 4)\n",
    "print(\"原始数组是\")\n",
    "print(a)\n",
    "print()\n",
    "b = a.T\n",
    "print(\"原始数组的转置是\")\n",
    "print(b)\n",
    "print()\n",
    "c = b.copy(order = 'C')\n",
    "print(\"以C风格排序\")\n",
    "print(c)\n",
    "for x in np.nditer(c):\n",
    "        print(x, end=', ')\n",
    "print()\n",
    "print()\n",
    "d = b.copy(order = 'F')\n",
    "print(\"以F风格排序\")\n",
    "print(d)\n",
    "for x in np.nditer(d):\n",
    "        print(x , end=', ')"
   ]
  },
  {
   "cell_type": "markdown",
   "id": "b03701e9",
   "metadata": {},
   "source": [
    "可以通过显式设置，来强制nditer对象使用某种顺序"
   ]
  },
  {
   "cell_type": "code",
   "execution_count": 5,
   "id": "e462b9ea",
   "metadata": {},
   "outputs": [
    {
     "name": "stdout",
     "output_type": "stream",
     "text": [
      "原始数组\n",
      "[[ 0  5 10 15]\n",
      " [20 25 30 35]\n",
      " [40 45 50 55]]\n",
      "\n",
      "以C风格排序\n",
      "0, 5, 10, 15, 20, 25, 30, 35, 40, 45, 50, 55, \n",
      "\n",
      "以F风格排序\n",
      "0, 20, 40, 5, 25, 45, 10, 30, 50, 15, 35, 55, "
     ]
    }
   ],
   "source": [
    "a = np.arange(0, 60, 5).reshape(3, 4)\n",
    "print(\"原始数组\")\n",
    "print(a)\n",
    "print()\n",
    "print(\"以C风格排序\")\n",
    "for x in np.nditer(a, order = 'C'):\n",
    "    print (x, end = ', ')\n",
    "print(\"\\n\")\n",
    "print(\"以F风格排序\")\n",
    "for x in np.nditer(a, order = 'F'):\n",
    "    print(x, end = ', ')"
   ]
  },
  {
   "cell_type": "markdown",
   "id": "c8f9d39a",
   "metadata": {},
   "source": [
    "## 修改数组中元素的值\n",
    "nditer对象有另一个可选参数op_flags\n",
    "\n",
    "默认情况下，nditer将待迭代遍历的数组视为只读对象，为了在遍历数组的同时，实现对数组元素值的修改，必须指定readwrite或者writeonly模式\n"
   ]
  },
  {
   "cell_type": "code",
   "execution_count": 6,
   "id": "b19b76f2",
   "metadata": {},
   "outputs": [
    {
     "name": "stdout",
     "output_type": "stream",
     "text": [
      "原始数组是\n",
      "[[ 0  5 10 15]\n",
      " [20 25 30 35]\n",
      " [40 45 50 55]]\n",
      "\n",
      "修改后的数组为\n",
      "[[  0  10  20  30]\n",
      " [ 40  50  60  70]\n",
      " [ 80  90 100 110]]\n"
     ]
    }
   ],
   "source": [
    "a = np.arange(0, 60, 5)\n",
    "a = a.reshape(3, 4)\n",
    "print(\"原始数组是\")\n",
    "print(a)\n",
    "print()\n",
    "for x in np.nditer(a, op_flags = ['writeonly']):\n",
    "        x[...] = 2 * x\n",
    "print(\"修改后的数组为\")\n",
    "print(a)"
   ]
  },
  {
   "cell_type": "markdown",
   "id": "92ad4743",
   "metadata": {},
   "source": [
    "## 使用外部循环\n",
    "nditer类的构造器用于flags参数，它可以接受下列值\n",
    "\n",
    "|参数|描述|\n",
    "|:---:|:---|\n",
    "|c_index|\t可以跟踪 C 顺序的索引|\n",
    "|f_index|\t可以跟踪 Fortran 顺序的索引|\n",
    "|multi_index|\t每次迭代可以跟踪一种索引类型|\n",
    "|external_loop|\t给出的值是具有多个值的一维数组，而不是零维数组|"
   ]
  },
  {
   "cell_type": "code",
   "execution_count": 7,
   "id": "f124c925",
   "metadata": {},
   "outputs": [
    {
     "name": "stdout",
     "output_type": "stream",
     "text": [
      "原始数组\n",
      "[[ 0  5 10 15]\n",
      " [20 25 30 35]\n",
      " [40 45 50 55]]\n",
      "\n",
      "修改后的数组是\n",
      "[ 0 20 40][ 5 25 45][10 30 50][15 35 55]"
     ]
    }
   ],
   "source": [
    "a = np.arange(0, 60, 5)\n",
    "a = a.reshape(3, 4)\n",
    "print(\"原始数组\")\n",
    "print(a)\n",
    "print()\n",
    "print(\"修改后的数组是\")\n",
    "for x in np.nditer(a, flags = ['external_loop'], order = 'F'):\n",
    "    print(x, end='')"
   ]
  },
  {
   "cell_type": "markdown",
   "id": "6194894c",
   "metadata": {},
   "source": [
    "## 广播迭代\n",
    "如果两个数组是可广播的，nditer组合对象能够同时迭代它们\n",
    "\n",
    "假设a的维度为 3 x 4， b的维度为 1 x 4， 则使用下列迭代器"
   ]
  },
  {
   "cell_type": "code",
   "execution_count": 8,
   "id": "232bb014",
   "metadata": {
    "scrolled": true
   },
   "outputs": [
    {
     "name": "stdout",
     "output_type": "stream",
     "text": [
      "第一个数组为\n",
      "[[ 0  5 10 15]\n",
      " [20 25 30 35]\n",
      " [40 45 50 55]]\n",
      "\n",
      "第二个数组为\n",
      "[1 2 3 4]\n",
      "\n",
      "修改后的数组为\n",
      "0:1, 5:2, 10:3, 15:4, 20:1, 25:2, 30:3, 35:4, 40:1, 45:2, 50:3, 55:4, "
     ]
    }
   ],
   "source": [
    "a = np.arange(0, 60, 5)\n",
    "a = a.reshape(3, 4)\n",
    "print(\"第一个数组为\")\n",
    "print(a)\n",
    "print()\n",
    "b = np.array([1, 2, 3, 4], dtype = int)\n",
    "print(\"第二个数组为\")\n",
    "print(b)\n",
    "print()\n",
    "print(\"修改后的数组为\")\n",
    "for x, y in np.nditer([a, b]):\n",
    "    print(\"%d:%d\" % (x, y), end = ', ')"
   ]
  },
  {
   "cell_type": "markdown",
   "id": "407b09d9",
   "metadata": {},
   "source": [
    "# 数组操作\n",
    "数组操作大概可以分为下面几类\n",
    "- 修改数组形状\n",
    "- 翻转数组\n",
    "- 修改数组维度\n",
    "- 连接数组\n",
    "- 分割数组\n",
    "- 数组元素的添加和删除"
   ]
  },
  {
   "cell_type": "markdown",
   "id": "067788bd",
   "metadata": {},
   "source": [
    "## 修改数组形状\n",
    "\n",
    "|函数|描述|\n",
    "|:---:|:---|\n",
    "|reshape\t|不改变数据的条件下修改形状|\n",
    "|flat\t|数组元素迭代器|\n",
    "|flatten\t|返回一份数组拷贝，对拷贝所做的修改不会影响原始数组|\n",
    "|ravel\t|返回展开数组|"
   ]
  },
  {
   "cell_type": "markdown",
   "id": "8fa74685",
   "metadata": {},
   "source": [
    "### numpy.reshape\n",
    "可以在不改变数据的情况下修改形状\n",
    "```py\n",
    "numpy.reshape(arr, newshape, order='C')\n",
    "```\n",
    "- order: 'C'按行， 'F'按列， 'A'原顺序，'K'元素在内存中出现的顺序"
   ]
  },
  {
   "cell_type": "code",
   "execution_count": 9,
   "id": "49d440e8",
   "metadata": {},
   "outputs": [
    {
     "name": "stdout",
     "output_type": "stream",
     "text": [
      "[0 1 2 3 4 5 6 7]\n",
      "\n",
      "[[0 1]\n",
      " [2 3]\n",
      " [4 5]\n",
      " [6 7]]\n"
     ]
    }
   ],
   "source": [
    "a = np.arange(8)\n",
    "print(a)\n",
    "print()\n",
    "\n",
    "b = a.reshape(4, 2)\n",
    "print(b)"
   ]
  },
  {
   "cell_type": "markdown",
   "id": "25f82edb",
   "metadata": {},
   "source": [
    "### numpy.ndarray,flat\n",
    "是一个数组元素迭代器\n",
    "\n",
    "对数组中**每个元素**进行处理，可以使用flat属性"
   ]
  },
  {
   "cell_type": "code",
   "execution_count": 10,
   "id": "075ba72b",
   "metadata": {},
   "outputs": [
    {
     "name": "stdout",
     "output_type": "stream",
     "text": [
      "[0 1 2]\n",
      "[3 4 5]\n",
      "[6 7 8]\n",
      "\n",
      "0\n",
      "1\n",
      "2\n",
      "3\n",
      "4\n",
      "5\n",
      "6\n",
      "7\n",
      "8\n"
     ]
    }
   ],
   "source": [
    "a = np.arange(9).reshape(3, 3)\n",
    "for row in a:\n",
    "    print(row)\n",
    "print()    \n",
    "for element in a.flat:\n",
    "    print(element)"
   ]
  },
  {
   "cell_type": "markdown",
   "id": "32780ea4",
   "metadata": {},
   "source": [
    "### numpy.ndarray.flatten\n",
    "返回一份数组拷贝，对拷贝所做的修改不会影响原始数组\n",
    "```py\n",
    "ndarray.flatten(order='C')\n",
    "```\n",
    "\n",
    "### numpr.ravel\n",
    "展平的数组元素，顺序通常是C风格，返回的是数组视图，修改会影响原始数组\n",
    "```py\n",
    "numpy.ravel(a, order='C')\n",
    "```"
   ]
  },
  {
   "cell_type": "markdown",
   "id": "2c027e1e",
   "metadata": {},
   "source": [
    "## 翻转数组\n",
    "\n",
    "|函数|描述|\n",
    "|:---:|:---|\n",
    "|transpose|\t对换数组的维度|\n",
    "|ndarray.T|\t和 self.transpose() 相同|\n",
    "|rollaxis|\t向后滚动指定的轴|\n",
    "|swapaxes|\t对换数组的两个轴|"
   ]
  },
  {
   "cell_type": "markdown",
   "id": "75932976",
   "metadata": {},
   "source": [
    "### numpy.transpose\n",
    "用于对换数组的维度\n",
    "```py\n",
    "numpy.transpose(arr, axes)\n",
    "```\n",
    "- axes为整形列表，对应维度，通常所有维度都会对换"
   ]
  },
  {
   "cell_type": "code",
   "execution_count": 11,
   "id": "0799602d",
   "metadata": {},
   "outputs": [
    {
     "name": "stdout",
     "output_type": "stream",
     "text": [
      "[[ 0  1  2  3]\n",
      " [ 4  5  6  7]\n",
      " [ 8  9 10 11]]\n",
      "\n",
      "[[ 0  4  8]\n",
      " [ 1  5  9]\n",
      " [ 2  6 10]\n",
      " [ 3  7 11]]\n"
     ]
    }
   ],
   "source": [
    "a = np.arange(12).reshape(3, 4)\n",
    "print(a)\n",
    "print()\n",
    "print(np.transpose(a))"
   ]
  },
  {
   "cell_type": "markdown",
   "id": "12b56e82",
   "metadata": {},
   "source": [
    "### numpy.ndarray.T\n",
    "类似与numpy.transpose"
   ]
  },
  {
   "cell_type": "code",
   "execution_count": 12,
   "id": "31ff4179",
   "metadata": {},
   "outputs": [
    {
     "name": "stdout",
     "output_type": "stream",
     "text": [
      "[[ 0  4  8]\n",
      " [ 1  5  9]\n",
      " [ 2  6 10]\n",
      " [ 3  7 11]]\n"
     ]
    }
   ],
   "source": [
    "print(a.T)"
   ]
  },
  {
   "cell_type": "markdown",
   "id": "c62fabac",
   "metadata": {},
   "source": [
    "### numpy.rollaxis\n",
    "向后滚动特定的轴到一个特定位置\n",
    "```python\n",
    "numpy.rollaxis(arr, axis, start)\n",
    "```\n",
    "- axis 向后滚动的轴，其他轴的相对位置不会改变\n",
    "- start 默认为0，表示完整的滚动，否则会滚动到特定的位置"
   ]
  },
  {
   "cell_type": "code",
   "execution_count": 13,
   "id": "98666ba6",
   "metadata": {},
   "outputs": [
    {
     "name": "stdout",
     "output_type": "stream",
     "text": [
      "原数组\n",
      "[[[0 1]\n",
      "  [2 3]]\n",
      "\n",
      " [[4 5]\n",
      "  [6 7]]]\n",
      "---------------------\n",
      "(array([1]), array([1]), array([0]))\n",
      "6\n",
      "----------------------\n",
      "[[[0 2]\n",
      "  [4 6]]\n",
      "\n",
      " [[1 3]\n",
      "  [5 7]]]\n",
      "(array([0]), array([1]), array([1]))\n",
      "------------------------\n",
      "[[[0 2]\n",
      "  [1 3]]\n",
      "\n",
      " [[4 6]\n",
      "  [5 7]]]\n",
      "(array([1]), array([0]), array([1]))\n"
     ]
    }
   ],
   "source": [
    "a = np.arange(8).reshape(2, 2, 2)\n",
    "print(\"原数组\")\n",
    "print(a)\n",
    "print(\"---------------------\")\n",
    "\n",
    "print(np.where(a == 6))\n",
    "print(a[1, 1, 0])\n",
    "print(\"----------------------\")\n",
    "\n",
    "b = np.rollaxis(a, 2, 0)  # 将轴2滚动到轴0 (宽度到深度)\n",
    "print(b)\n",
    "print(np.where(b == 6))\n",
    "print(\"------------------------\")\n",
    "\n",
    "c = np.rollaxis(a, 2, 1)  # 将轴2滚动到轴1（宽度到高度）\n",
    "print(c)\n",
    "print(np.where(c == 6))"
   ]
  },
  {
   "cell_type": "markdown",
   "id": "39daa72c",
   "metadata": {},
   "source": [
    "### numpy.swapaxes\n",
    "详见np.rollaxis & swapaxes.ipynb"
   ]
  },
  {
   "cell_type": "markdown",
   "id": "e1079e44",
   "metadata": {},
   "source": []
  },
  {
   "cell_type": "markdown",
   "id": "22360189",
   "metadata": {},
   "source": [
    "## 修改数组维度\n",
    "|维度|\t描述|\n",
    "|:---:|:---|\n",
    "|broadcast|\t产生模仿广播的对象|\n",
    "|broadcast_to|\t将数组广播到新形状|\n",
    "|expand_dims|\t扩展数组的形状|\n",
    "|squeeze|\t从数组的形状中删除一维条目|"
   ]
  },
  {
   "cell_type": "markdown",
   "id": "b0dfa190",
   "metadata": {},
   "source": [
    "### numpy.broadcost\n",
    "用于模仿广播的对象，返回一个对象，该对象封装了将一个数组广播到另一个数组的结果"
   ]
  },
  {
   "cell_type": "code",
   "execution_count": 14,
   "id": "3a1c5236",
   "metadata": {},
   "outputs": [
    {
     "name": "stdout",
     "output_type": "stream",
     "text": [
      "1 4\n",
      "1 5\n",
      "1 6\n",
      "2 4\n",
      "2 5\n",
      "2 6\n",
      "3 4\n",
      "3 5\n",
      "3 6\n",
      "------------------------------\n",
      "(3, 3)\n",
      "------------------------------\n",
      "(3, 3)\n",
      "==========\n",
      "[[5. 6. 7.]\n",
      " [6. 7. 8.]\n",
      " [7. 8. 9.]]\n",
      "=======\n",
      "[[5 6 7]\n",
      " [6 7 8]\n",
      " [7 8 9]]\n"
     ]
    }
   ],
   "source": [
    "x = np.array([[1], [2], [3]])\n",
    "y = np.array([4, 5 ,6])\n",
    "\n",
    "# 对y广播x, 它具有iterator属性，基于自身组件的迭代器元组\n",
    "b = np.broadcast(x, y)\n",
    "r, c = b.iters\n",
    "\n",
    "print(next(r), next(c))\n",
    "print(next(r), next(c))\n",
    "print(next(r), next(c))\n",
    "print(next(r), next(c))\n",
    "print(next(r), next(c))\n",
    "print(next(r), next(c))\n",
    "print(next(r), next(c))\n",
    "print(next(r), next(c))\n",
    "print(next(r), next(c))\n",
    "print(\"------------------------------\")\n",
    "\n",
    "print(b.shape) #shape返回广播对象的形状\n",
    "print(\"------------------------------\")\n",
    "\n",
    "b = np.broadcast(x, y)\n",
    "c = np.empty(b.shape)\n",
    "print(c.shape)\n",
    "print(\"==========\")\n",
    "c.flat= [u + v for (u, v) in b]\n",
    "print(c)\n",
    "print(\"=======\")\n",
    "print(x + y)"
   ]
  },
  {
   "cell_type": "markdown",
   "id": "ea625bc7",
   "metadata": {},
   "source": [
    "### numpy.broadcast_to\n",
    "将数组广播到新形状。它在原始数组上只返回只读视图，它通常不连续\n",
    "\n",
    "如果新形状不符合numpy的广播规则，则可能会抛出ValueError\n",
    "```py\n",
    "numpy.broadcast_to(arr, shape, subok)\n",
    "```"
   ]
  },
  {
   "cell_type": "code",
   "execution_count": 15,
   "id": "6c435dcf",
   "metadata": {},
   "outputs": [
    {
     "name": "stdout",
     "output_type": "stream",
     "text": [
      "[[0 1 2 3]]\n",
      "\n",
      "[[0 1 2 3]\n",
      " [0 1 2 3]\n",
      " [0 1 2 3]\n",
      " [0 1 2 3]]\n"
     ]
    }
   ],
   "source": [
    "a = np.arange(4).reshape(1, 4)\n",
    "print(a)\n",
    "print()\n",
    "print(np.broadcast_to(a, (4, 4)))"
   ]
  },
  {
   "cell_type": "markdown",
   "id": "06707d22",
   "metadata": {},
   "source": [
    "### numpy.expand_dims\n",
    "在指定位置插入新的轴来扩展数组的形状\n",
    "```py\n",
    "numpt.expand_dims(arr, axis)\n",
    "```"
   ]
  },
  {
   "cell_type": "code",
   "execution_count": 16,
   "id": "7c6e311f",
   "metadata": {},
   "outputs": [
    {
     "name": "stdout",
     "output_type": "stream",
     "text": [
      "[[1 2]\n",
      " [3 4]]\n",
      "\n",
      "[[[1 2]\n",
      "  [3 4]]]\n",
      "\n",
      "(2, 2) (1, 2, 2)\n",
      "-----------------------------------\n",
      "[[[1 2]]\n",
      "\n",
      " [[3 4]]]\n",
      "\n",
      "2 3\n",
      "(2, 2) (2, 1, 2)\n"
     ]
    }
   ],
   "source": [
    "x = np.array([[1, 2], [3, 4]])\n",
    "print(x)\n",
    "print()\n",
    "y = np.expand_dims(x, axis=0)\n",
    "print(y)\n",
    "print()\n",
    "print(x.shape, y.shape)\n",
    "print(\"-----------------------------------\")\n",
    "y = np.expand_dims(x, axis=1)\n",
    "print(y)\n",
    "print()\n",
    "print(x.ndim, y.ndim)\n",
    "print(x.shape, y.shape)"
   ]
  },
  {
   "cell_type": "markdown",
   "id": "fc1ede4e",
   "metadata": {},
   "source": [
    "### numpy.squeeze\n",
    "从给定数组中删除一维的条目\n",
    "```python\n",
    "numpy.squeeze(arr, axis)\n",
    "```"
   ]
  },
  {
   "cell_type": "code",
   "execution_count": 17,
   "id": "5f92ae7f",
   "metadata": {},
   "outputs": [
    {
     "name": "stdout",
     "output_type": "stream",
     "text": [
      "[[[0 1 2]\n",
      "  [3 4 5]\n",
      "  [6 7 8]]]\n",
      "\n",
      "[[0 1 2]\n",
      " [3 4 5]\n",
      " [6 7 8]]\n",
      "\n",
      "(1, 3, 3) (3, 3)\n"
     ]
    }
   ],
   "source": [
    "x = np.arange(9).reshape(1, 3, 3)\n",
    "print(x)\n",
    "print()\n",
    "y = np.squeeze(x, axis=0)\n",
    "print(y)\n",
    "print()\n",
    "print(x.shape, y.shape)"
   ]
  },
  {
   "cell_type": "markdown",
   "id": "cac9b3cc",
   "metadata": {},
   "source": [
    "## 连接数组\n",
    "\n",
    "\n",
    "|函数|\t描述|\n",
    "|:---:|:---|\n",
    "|concatenate|\t连接沿现有轴的数组序列|\n",
    "|stack|\t沿着新的轴加入一系列数组|\n",
    "|hstack|\t水平堆叠序列中的数组（列方向）|\n",
    "|vstack|\t竖直堆叠序列中的数组（行方向）|"
   ]
  },
  {
   "cell_type": "markdown",
   "id": "be8ae46c",
   "metadata": {},
   "source": [
    "### numpy.concatenate\n",
    "用于沿指定轴连接形状相同的两个或多个数组\n",
    "```py\n",
    "nunpy.concatenate((a1, a2 ...), axis)\n",
    "```\n",
    "- axis很多地方都是默认为0"
   ]
  },
  {
   "cell_type": "code",
   "execution_count": 18,
   "id": "a1507981",
   "metadata": {},
   "outputs": [
    {
     "name": "stdout",
     "output_type": "stream",
     "text": [
      "[[1 2]\n",
      " [3 4]]\n",
      "\n",
      "[[5 6]\n",
      " [7 8]]\n",
      "-----------\n",
      "[[1 2]\n",
      " [3 4]\n",
      " [5 6]\n",
      " [7 8]]\n",
      "\n",
      "[[1 2 5 6]\n",
      " [3 4 7 8]]\n",
      "\n"
     ]
    }
   ],
   "source": [
    "a = np.array([[1, 2], [3, 4]])\n",
    "b = np.array([[5, 6], [7, 8]])\n",
    "print(a)\n",
    "print()\n",
    "print(b)\n",
    "print(\"-----------\")\n",
    "print(np.concatenate((a, b), axis=0))\n",
    "print()\n",
    "print(np.concatenate((a, b), axis=1))\n",
    "print()"
   ]
  },
  {
   "cell_type": "markdown",
   "id": "117b0141",
   "metadata": {},
   "source": [
    "### numpy.stack\n",
    "用于沿新轴连接数组序列\n",
    "```py\n",
    "numpy.stack(arrays, axis)\n",
    "```"
   ]
  },
  {
   "cell_type": "code",
   "execution_count": 19,
   "id": "37484ee9",
   "metadata": {},
   "outputs": [
    {
     "name": "stdout",
     "output_type": "stream",
     "text": [
      "[[[1 2]\n",
      "  [3 4]]\n",
      "\n",
      " [[5 6]\n",
      "  [7 8]]]\n",
      "(2, 2, 2)\n",
      "\n",
      "[[[1 2]\n",
      "  [5 6]]\n",
      "\n",
      " [[3 4]\n",
      "  [7 8]]]\n",
      "(2, 2, 2)\n"
     ]
    }
   ],
   "source": [
    "a = np.array([[1, 2], [3, 4]])\n",
    "b = np.array([[5, 6], [7, 8]])\n",
    "print(np.stack((a, b), 0))\n",
    "print((np.stack((a, b), 0)).shape)\n",
    "print()\n",
    "print(np.stack((a, b), 1))\n",
    "print((np.stack((a, b), 1)).shape)"
   ]
  },
  {
   "cell_type": "markdown",
   "id": "e83aca33",
   "metadata": {},
   "source": [
    "### numpy.hstack\n",
    "是np.stack的变体，通过水平堆叠来生成数组"
   ]
  },
  {
   "cell_type": "code",
   "execution_count": 20,
   "id": "5d3b3c09",
   "metadata": {},
   "outputs": [
    {
     "name": "stdout",
     "output_type": "stream",
     "text": [
      "[[1 2]\n",
      " [3 4]]\n",
      "\n",
      "[[5 6]\n",
      " [7 8]]\n",
      "\n",
      "[[1 2 5 6]\n",
      " [3 4 7 8]]\n"
     ]
    }
   ],
   "source": [
    "a = np.array([[1, 2], [3, 4]])\n",
    "b = np.array([[5, 6], [7, 8]])\n",
    "print(a)\n",
    "print()\n",
    "print(b)\n",
    "print()\n",
    "c = np.hstack((a, b))\n",
    "print(c)"
   ]
  },
  {
   "cell_type": "markdown",
   "id": "6a456a84",
   "metadata": {},
   "source": [
    "### numpy.vstack\n",
    "也是一种变体，通过垂直堆叠来生成数组"
   ]
  },
  {
   "cell_type": "code",
   "execution_count": 21,
   "id": "df16a6b6",
   "metadata": {},
   "outputs": [
    {
     "name": "stdout",
     "output_type": "stream",
     "text": [
      "[[1 2]\n",
      " [3 4]\n",
      " [5 6]\n",
      " [7 8]]\n"
     ]
    }
   ],
   "source": [
    "a = np.array([[1, 2], [3, 4]])\n",
    "b = np.array([[5, 6], [7, 8]])\n",
    "print(np.vstack((a, b)))"
   ]
  },
  {
   "cell_type": "markdown",
   "id": "622f0533",
   "metadata": {},
   "source": [
    "## 分割数组\n",
    "\n",
    "|函数|\t数组及操作|\n",
    "|:---:|:---|\n",
    "|split|\t将一个数组分割为多个子数组|\n",
    "|hsplit|\t将一个数组水平分割为多个子数组（按列）|\n",
    "|vsplit|\t将一个数组垂直分割为多个子数组（按行）|"
   ]
  },
  {
   "cell_type": "markdown",
   "id": "83b1076a",
   "metadata": {},
   "source": [
    "### numpy.split\n",
    "沿特定轴将数组分割为子数组\n",
    "```py\n",
    "numpy.split(ary, indices_or_sections, axis)\n",
    "```\n",
    "- indices_or_sections: 如果是一个整数，就用该数平均分；如果是一个数组，为沿轴切分的位置（左开右闭）\n",
    "- axis: 设置沿着哪个方向进行切分，默认为0，横向切分，即水平方向；为1时，纵向切分，即竖直方向"
   ]
  },
  {
   "cell_type": "code",
   "execution_count": 22,
   "id": "04201f8a",
   "metadata": {},
   "outputs": [
    {
     "name": "stdout",
     "output_type": "stream",
     "text": [
      "[0 1 2 3 4 5 6 7 8]\n",
      "\n",
      "[array([0, 1, 2]), array([3, 4, 5]), array([6, 7, 8])]\n",
      "\n",
      "[array([0, 1, 2, 3]), array([4, 5, 6]), array([7, 8])]\n"
     ]
    }
   ],
   "source": [
    "a = np.arange(9)\n",
    "print(a)\n",
    "print()\n",
    "b = np.split(a, 3)\n",
    "print(b)\n",
    "print()\n",
    "b = np.split(a, [4, 7])\n",
    "print(b)"
   ]
  },
  {
   "cell_type": "markdown",
   "id": "99c3e9c4",
   "metadata": {},
   "source": [
    "- indices_or_sections参数为数组时，会依次切分前n个元素，不包括已经切分的元素\n",
    "\n",
    "二维数组的情况与一维数组大致相同"
   ]
  },
  {
   "cell_type": "code",
   "execution_count": 23,
   "id": "939327ea",
   "metadata": {},
   "outputs": [
    {
     "name": "stdout",
     "output_type": "stream",
     "text": [
      "[array([[1, 2, 3],\n",
      "       [4, 5, 6]]), array([[7, 8, 9]]), array([], shape=(0, 3), dtype=int64)]\n",
      "-----------------------\n",
      "[array([[1],\n",
      "       [4],\n",
      "       [7]]), array([[2],\n",
      "       [5],\n",
      "       [8]]), array([[3],\n",
      "       [6],\n",
      "       [9]])]\n"
     ]
    }
   ],
   "source": [
    "a = np.array([[1, 2, 3],\n",
    "                            [4, 5, 6], \n",
    "                            [7, 8, 9]])\n",
    "print (np.split(a, [2, 3],axis = 0))\n",
    "print(\"-----------------------\")\n",
    "print (np.split(a, [1, 2],axis = 1))"
   ]
  },
  {
   "cell_type": "markdown",
   "id": "e7de006e",
   "metadata": {},
   "source": [
    "axis参数存在时，为0时在水平方向分割，为1时在垂直方向分割"
   ]
  },
  {
   "cell_type": "code",
   "execution_count": 24,
   "id": "6409f108",
   "metadata": {},
   "outputs": [
    {
     "name": "stdout",
     "output_type": "stream",
     "text": [
      "[[ 0  1  2  3]\n",
      " [ 4  5  6  7]\n",
      " [ 8  9 10 11]\n",
      " [12 13 14 15]]\n",
      "---------------\n",
      "[array([[0, 1, 2, 3],\n",
      "       [4, 5, 6, 7]]), array([[ 8,  9, 10, 11],\n",
      "       [12, 13, 14, 15]])]\n",
      "---------------\n",
      "[array([[ 0,  1],\n",
      "       [ 4,  5],\n",
      "       [ 8,  9],\n",
      "       [12, 13]]), array([[ 2,  3],\n",
      "       [ 6,  7],\n",
      "       [10, 11],\n",
      "       [14, 15]])]\n"
     ]
    }
   ],
   "source": [
    "a = np.arange(16).reshape(4, 4)\n",
    "print(a)\n",
    "print(\"---------------\")\n",
    "b = np.split(a, 2)\n",
    "print(b)\n",
    "print(\"---------------\")\n",
    "c = np.split(a, 2, axis=1)\n",
    "print(c)"
   ]
  },
  {
   "cell_type": "markdown",
   "id": "835ac6c6",
   "metadata": {},
   "source": [
    "### numpy.hsplit\n",
    "用于水平分割数组，通过**指定要返回的相同形状的数组数量**来拆分原数组"
   ]
  },
  {
   "cell_type": "code",
   "execution_count": 28,
   "id": "fc1ffeed",
   "metadata": {},
   "outputs": [
    {
     "name": "stdout",
     "output_type": "stream",
     "text": [
      "[[0. 6. 4. 1. 0. 1.]\n",
      " [8. 1. 4. 3. 4. 1.]]\n",
      "\n",
      "[array([[0., 6.],\n",
      "       [8., 1.]]), array([[4., 1.],\n",
      "       [4., 3.]]), array([[0., 1.],\n",
      "       [4., 1.]])]\n"
     ]
    }
   ],
   "source": [
    "harr = np.floor(10 * np.random.random((2, 6)))\n",
    "print(harr)\n",
    "print()\n",
    "print(np.hsplit(harr, 3))"
   ]
  },
  {
   "cell_type": "markdown",
   "id": "7cbce79e",
   "metadata": {},
   "source": [
    "### numpy.vsplit\n",
    "沿垂直轴分割，其余同上"
   ]
  },
  {
   "cell_type": "code",
   "execution_count": 31,
   "id": "3d7e8e6b",
   "metadata": {},
   "outputs": [
    {
     "name": "stdout",
     "output_type": "stream",
     "text": [
      "[[ 0  1  2  3]\n",
      " [ 4  5  6  7]\n",
      " [ 8  9 10 11]\n",
      " [12 13 14 15]]\n",
      "\n",
      "[array([[0, 1, 2, 3],\n",
      "       [4, 5, 6, 7]]), array([[ 8,  9, 10, 11],\n",
      "       [12, 13, 14, 15]])]\n"
     ]
    }
   ],
   "source": [
    "a = np.arange(16).reshape(4, 4)\n",
    "print(a)\n",
    "print()\n",
    "print(np.vsplit(a, 2))"
   ]
  },
  {
   "cell_type": "markdown",
   "id": "b1ae88d2",
   "metadata": {},
   "source": [
    "## 数组元素的添加与删除\n",
    "\n",
    "\n",
    "|函数|\t元素及描述|\n",
    "|:---:|:---|\n",
    "|resize|\t返回指定形状的新数组|\n",
    "|append|\t将值添加到数组末尾|\n",
    "|insert|\t沿指定轴将值插入到指定下标之前|\n",
    "|delete|\t删掉某个轴的子数组，并返回删除后的新数组|\n",
    "|unique|\t查找数组内的唯一元素|"
   ]
  },
  {
   "cell_type": "markdown",
   "id": "1a03a5b3",
   "metadata": {},
   "source": [
    "### numpy.resize\n",
    "返回指定大小的新数组\n",
    "如果新数组大小大于原始大小，则包含原始数组中的元素的副本\n",
    "```py\n",
    "numpy.resize(arr, shape)\n",
    "```"
   ]
  },
  {
   "cell_type": "code",
   "execution_count": 36,
   "id": "98ce623f",
   "metadata": {},
   "outputs": [
    {
     "name": "stdout",
     "output_type": "stream",
     "text": [
      "[[1 2 3]\n",
      " [4 5 6]]\n",
      "(2, 3)\n",
      "\n",
      "[[1 2]\n",
      " [3 4]\n",
      " [5 6]]\n",
      "(3, 2)\n",
      "\n",
      "[[1 2 3]\n",
      " [4 5 6]\n",
      " [1 2 3]]\n"
     ]
    }
   ],
   "source": [
    "a = np.array([[1, 2, 3],\n",
    "                            [4, 5 ,6]])\n",
    "print(a)\n",
    "print(a.shape)\n",
    "print()\n",
    "b = np.resize(a, (3, 2))\n",
    "print(b)\n",
    "print(b.shape)\n",
    "print()\n",
    "b = np.resize(a, (3, 3))\n",
    "print(b)"
   ]
  },
  {
   "cell_type": "markdown",
   "id": "db153d20",
   "metadata": {},
   "source": [
    "### numpy.append\n",
    "在数组的末尾添加值。追加操作会分配整个数组，并把原来的数组复制到新数组中，输入数组的维度必须匹配\n",
    "```py\n",
    "numpy.append(arr, values, axis=None)\n",
    "```\n",
    "- values的形状要和arr的相同\n",
    "- axis: 默认为None。当axis无定义的时候，是横向加成，**返回总是为一维数组**"
   ]
  },
  {
   "cell_type": "code",
   "execution_count": 37,
   "id": "31607365",
   "metadata": {
    "scrolled": true
   },
   "outputs": [
    {
     "name": "stdout",
     "output_type": "stream",
     "text": [
      "[[1 2 3]\n",
      " [4 5 6]]\n",
      "\n",
      "[1 2 3 4 5 6 7 8 9]\n",
      "\n",
      "[[1 2 3]\n",
      " [4 5 6]\n",
      " [7 8 9]]\n",
      "\n",
      "[[1 2 3 5 5 5]\n",
      " [4 5 6 7 8 9]]\n"
     ]
    }
   ],
   "source": [
    "a = np.array([[1, 2, 3],\n",
    "                            [4, 5 ,6]])\n",
    "print(a)\n",
    "print()\n",
    "print(np.append(a, [7, 8,9]))\n",
    "print()\n",
    "print(np.append(a, [[7, 8 ,9]], axis = 0))\n",
    "print()\n",
    "print(np.append(a, [[5, 5, 5], [7, 8, 9]], axis = 1))"
   ]
  },
  {
   "cell_type": "markdown",
   "id": "79b7fedd",
   "metadata": {},
   "source": [
    "### numpy.insert\n",
    "在给定的索引之前，沿给定轴在输入数组中插入值\n",
    "\n",
    "```py\n",
    "numpy.insert(arr, obj, values, axis)\n",
    "```\n",
    "- obj: 在其**之前**插入索引"
   ]
  },
  {
   "cell_type": "code",
   "execution_count": 40,
   "id": "05fddb9c",
   "metadata": {},
   "outputs": [
    {
     "name": "stdout",
     "output_type": "stream",
     "text": [
      "[[1 2]\n",
      " [3 4]\n",
      " [5 6]]\n",
      "-------------\n",
      "未传递axis参数，输出数组会被展开\n",
      "[ 1  2  3 11 12  4  5  6]\n",
      "--------------\n",
      "传递了axis参数，会广播值数组来配输入数组\n",
      "沿轴0广播\n",
      "[[ 1  2]\n",
      " [11 11]\n",
      " [ 3  4]\n",
      " [ 5  6]]\n",
      "\n",
      "沿轴1广播\n",
      "[[ 1 11  2]\n",
      " [ 3 11  4]\n",
      " [ 5 11  6]]\n"
     ]
    }
   ],
   "source": [
    "a = np.array(([1, 2],\n",
    "                            [3, 4],\n",
    "                            [5, 6]))\n",
    "print(a)\n",
    "print(\"-------------\")\n",
    "print(\"未传递axis参数，输出数组会被展开\")\n",
    "print(np.insert(a, 3, [11, 12]))\n",
    "print(\"--------------\")\n",
    "print(\"传递了axis参数，会广播值数组来配输入数组\")\n",
    "print(\"沿轴0广播\")\n",
    "print(np.insert(a, 1, 11, axis = 0))\n",
    "print()\n",
    "print(\"沿轴1广播\")\n",
    "print(np.insert(a, 1, 11, axis = 1))"
   ]
  },
  {
   "cell_type": "markdown",
   "id": "0fc9e737",
   "metadata": {},
   "source": [
    "### numpy.delete\n",
    "函数返回从输入数组中删除指定子数组的新数组\n",
    "\n",
    "```py\n",
    "numpy.delete(arr, obj, axis)\n",
    "```\n",
    "- obj：可以是切片、整数或者整数数组，表面要从输入数组删除的子数组\n",
    "- axis：与np.insert一样，如果未提供轴参数，则输出数组将被展开"
   ]
  },
  {
   "cell_type": "code",
   "execution_count": 50,
   "id": "9e8b8bb8",
   "metadata": {
    "scrolled": true
   },
   "outputs": [
    {
     "name": "stdout",
     "output_type": "stream",
     "text": [
      "[[ 0  1  2  3]\n",
      " [ 4  5  6  7]\n",
      " [ 8  9 10 11]]\n",
      "------------------\n",
      "[ 0  1  2  3  4  6  7  8  9 10 11]\n",
      "-------------------\n",
      "[[ 0  2  3]\n",
      " [ 4  6  7]\n",
      " [ 8 10 11]]\n",
      "--------------------\n",
      "[ 2  4  6  8 10]\n"
     ]
    }
   ],
   "source": [
    "a = np.arange(12).reshape(3, 4)\n",
    "print(a)\n",
    "print(\"------------------\")\n",
    "print(np.delete(a, 5))\n",
    "print(\"-------------------\")\n",
    "print(np.delete(a, 1, axis=1))\n",
    "print(\"--------------------\")\n",
    "a = np.array([1, 2 ,3 ,4 ,5 ,6 ,7 ,8 , 9, 10])\n",
    "print(np.delete(a, np.s_[::2]))"
   ]
  },
  {
   "cell_type": "markdown",
   "id": "334272b4",
   "metadata": {},
   "source": [
    "### numpy.unique\n",
    "用于去除数组中的重复元素\n",
    "```py\n",
    "numpy.unique(arr, return_index, return_inverse, return_counts)\n",
    "```\n",
    "- return_index：如果为True，返回新列表元素在旧列表中的位置（下标），并以列表形式储存\n",
    "- return_inverse：如果为True，返回旧列表元素在新列表中的位置（下标），并以列表形式储存\n",
    "- return_counts：如果为True，返回去重数组中的元素在原数组中的出现次数"
   ]
  },
  {
   "cell_type": "code",
   "execution_count": 56,
   "id": "3d608a8b",
   "metadata": {},
   "outputs": [
    {
     "name": "stdout",
     "output_type": "stream",
     "text": [
      "[5 2 6 2 7 5 6 8 2 9]\n",
      "----------------------\n",
      "[2 5 6 7 8 9]\n",
      "----------------------\n",
      "[1 0 2 4 7 9]\n",
      "----------------------\n",
      "[2 5 6 7 8 9]\n",
      "[1 0 2 0 3 1 2 4 0 5]\n",
      "-----------------------\n",
      "使用下标重构元素\n",
      "[5 2 6 2 7 5 6 8 2 9]\n",
      "-----------------------\n",
      "[2 5 6 7 8 9]\n",
      "[3 2 2 1 1 1]\n"
     ]
    }
   ],
   "source": [
    "a = np.array([5, 2, 6, 2, 7, 5, 6, 8, 2, 9])\n",
    "print(a)\n",
    "print(\"----------------------\")\n",
    "u = np.unique(a)\n",
    "print(u)\n",
    "print(\"----------------------\")\n",
    "u, indices = np.unique(a, return_index=True)\n",
    "print(indices)\n",
    "print(\"----------------------\")\n",
    "u,indices = np.unique(a,return_inverse=True)\n",
    "print(u)\n",
    "print(indices)\n",
    "print(\"-----------------------\")\n",
    "print(\"使用下标重构元素\")\n",
    "print(u[indices])\n",
    "print(\"-----------------------\")\n",
    "u,indices = np.unique(a,return_counts = True)\n",
    "print (u)\n",
    "print (indices)"
   ]
  },
  {
   "cell_type": "code",
   "execution_count": null,
   "id": "ca0f75fe",
   "metadata": {},
   "outputs": [],
   "source": []
  },
  {
   "cell_type": "code",
   "execution_count": null,
   "id": "cd68e6c2",
   "metadata": {},
   "outputs": [],
   "source": []
  },
  {
   "cell_type": "code",
   "execution_count": null,
   "id": "c2151394",
   "metadata": {},
   "outputs": [],
   "source": []
  },
  {
   "cell_type": "code",
   "execution_count": null,
   "id": "36bc36f9",
   "metadata": {},
   "outputs": [],
   "source": []
  },
  {
   "cell_type": "code",
   "execution_count": null,
   "id": "bd9b61cf",
   "metadata": {},
   "outputs": [],
   "source": []
  },
  {
   "cell_type": "code",
   "execution_count": null,
   "id": "d0921c8c",
   "metadata": {},
   "outputs": [],
   "source": []
  },
  {
   "cell_type": "code",
   "execution_count": null,
   "id": "679e78e7",
   "metadata": {},
   "outputs": [],
   "source": []
  },
  {
   "cell_type": "code",
   "execution_count": null,
   "id": "e987ad55",
   "metadata": {},
   "outputs": [],
   "source": []
  },
  {
   "cell_type": "code",
   "execution_count": null,
   "id": "7f334bc2",
   "metadata": {},
   "outputs": [],
   "source": []
  },
  {
   "cell_type": "code",
   "execution_count": null,
   "id": "13d07bd9",
   "metadata": {},
   "outputs": [],
   "source": []
  },
  {
   "cell_type": "code",
   "execution_count": null,
   "id": "3a1d8c06",
   "metadata": {},
   "outputs": [],
   "source": []
  },
  {
   "cell_type": "code",
   "execution_count": null,
   "id": "dace0006",
   "metadata": {},
   "outputs": [],
   "source": []
  },
  {
   "cell_type": "code",
   "execution_count": null,
   "id": "e6c2d83d",
   "metadata": {},
   "outputs": [],
   "source": []
  },
  {
   "cell_type": "code",
   "execution_count": null,
   "id": "4aba070b",
   "metadata": {},
   "outputs": [],
   "source": []
  },
  {
   "cell_type": "code",
   "execution_count": null,
   "id": "2754bc5c",
   "metadata": {},
   "outputs": [],
   "source": []
  },
  {
   "cell_type": "code",
   "execution_count": null,
   "id": "9498362d",
   "metadata": {},
   "outputs": [],
   "source": []
  }
 ],
 "metadata": {
  "kernelspec": {
   "display_name": "Python 3 (ipykernel)",
   "language": "python",
   "name": "python3"
  },
  "language_info": {
   "codemirror_mode": {
    "name": "ipython",
    "version": 3
   },
   "file_extension": ".py",
   "mimetype": "text/x-python",
   "name": "python",
   "nbconvert_exporter": "python",
   "pygments_lexer": "ipython3",
   "version": "3.9.12"
  }
 },
 "nbformat": 4,
 "nbformat_minor": 5
}
