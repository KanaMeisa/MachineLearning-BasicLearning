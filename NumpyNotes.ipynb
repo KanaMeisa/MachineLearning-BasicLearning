{
 "cells": [
  {
   "cell_type": "markdown",
   "id": "79d926af",
   "metadata": {},
   "source": [
    "## Ndarray 对象\n"
   ]
  },
  {
   "cell_type": "code",
   "execution_count": 35,
   "id": "326c41d0",
   "metadata": {},
   "outputs": [],
   "source": [
    "import numpy as np"
   ]
  },
  {
   "cell_type": "markdown",
   "id": "e8abd3f8",
   "metadata": {},
   "source": [
    "\n",
    "创建一个ndarray需要调用Numpy中的array函数\n",
    "```python\n",
    "numpy.array(object, dtype = None, copy = True, order = None, subok = False, ndmin = 0)\n",
    "```\n",
    "\n",
    "| 名称 | 描述 |\n",
    "| :---: | :--- |\n",
    "| object | 数组或嵌套的数列 |\n",
    "| dtype | 数组元素的数据类型，可选 |\n",
    "| copy | 对象是否需要复制，可选 |\n",
    "| order | 创建数组的样式，C为行方向，F为列方向，A为任意方向（默认）|\n",
    "| subok | 默认返回一个与基类类型一致的数组 |\n",
    "| ndmin | 指定生成数组的最小维度 |"
   ]
  },
  {
   "cell_type": "markdown",
   "id": "228b3bd8",
   "metadata": {},
   "source": [
    "实例："
   ]
  },
  {
   "cell_type": "code",
   "execution_count": 36,
   "id": "3496a3a6",
   "metadata": {},
   "outputs": [
    {
     "name": "stdout",
     "output_type": "stream",
     "text": [
      "[[1 2]\n",
      " [3 4]]\n"
     ]
    }
   ],
   "source": [
    "a = np.array([[1, 2], [3, 4]])\n",
    "print(a)"
   ]
  },
  {
   "cell_type": "code",
   "execution_count": 37,
   "id": "829e5779",
   "metadata": {},
   "outputs": [
    {
     "name": "stdout",
     "output_type": "stream",
     "text": [
      "[[1 2 3 4 5]]\n"
     ]
    }
   ],
   "source": [
    "#最小维度\n",
    "a = np.array([1, 2, 3, 4, 5], ndmin =  2)  \n",
    "print (a)"
   ]
  },
  {
   "cell_type": "code",
   "execution_count": 38,
   "id": "f0c74dc6",
   "metadata": {
    "scrolled": true
   },
   "outputs": [
    {
     "name": "stdout",
     "output_type": "stream",
     "text": [
      "[1.+0.j 2.+0.j 3.+0.j]\n"
     ]
    }
   ],
   "source": [
    "# dtype 参数  \n",
    "import numpy as np \n",
    "a = np.array([1,  2,  3], dtype = complex)  \n",
    "print (a)"
   ]
  },
  {
   "cell_type": "markdown",
   "id": "942f5776",
   "metadata": {},
   "source": [
    "\n",
    "## 数组属性"
   ]
  },
  {
   "cell_type": "markdown",
   "id": "c4564159",
   "metadata": {},
   "source": [
    "|属性|说明|\n",
    "|:---:|:---|\n",
    "|ndarray.ndim|\t秩，即轴的数量或维度的数量|\n",
    "|ndarray.shape|\t数组的维度，对于矩阵，n 行 m 列|\n",
    "|ndarray.size|\t数组元素的总个数，相当于 .shape 中 n*m 的值|\n",
    "|ndarray.dtype|\tndarray 对象的元素类型|\n",
    "|ndarray.itemsize|\tndarray 对象中每个元素的大小，以字节为单位|\n",
    "|ndarray.flags|\tndarray 对象的内存信息|\n",
    "|ndarray.real|\tndarray元素的实部|\n",
    "|ndarray.imag|\tndarray 元素的虚部|\n",
    "|ndarray.data|\t包含实际数组元素的缓冲区，由于一般通过数组的索引获取元素，所以通常不需要使用这个属性|"
   ]
  },
  {
   "cell_type": "markdown",
   "id": "9fd9d249",
   "metadata": {},
   "source": [
    "###  ndarray.ndim\n",
    "用于返回数组的为数，等于秩"
   ]
  },
  {
   "cell_type": "code",
   "execution_count": 39,
   "id": "944e2c14",
   "metadata": {
    "scrolled": true
   },
   "outputs": [
    {
     "name": "stdout",
     "output_type": "stream",
     "text": [
      "1\n",
      "[ 0  1  2  3  4  5  6  7  8  9 10 11 12 13 14 15 16 17 18 19 20 21 22 23]\n",
      "\n",
      "3\n",
      "[[[ 0  1  2]\n",
      "  [ 3  4  5]\n",
      "  [ 6  7  8]\n",
      "  [ 9 10 11]]\n",
      "\n",
      " [[12 13 14]\n",
      "  [15 16 17]\n",
      "  [18 19 20]\n",
      "  [21 22 23]]]\n"
     ]
    }
   ],
   "source": [
    "a = np.arange(24)              #np.arange()用于生成数组，与range()类似\n",
    "print(a.ndim)                      #a现在只有一个维度\n",
    "print(a)\n",
    "print()\n",
    "b = a.reshape(2, 4, 3)       #b现在拥有三个维度\n",
    "print(b.ndim)\n",
    "print(b)"
   ]
  },
  {
   "cell_type": "markdown",
   "id": "0830a2e2",
   "metadata": {},
   "source": [
    "### ndarray.shape\n",
    "表示数组的维度，返回一个元组，这个元组的长度就是维度的数目，即ndim（秩）属性"
   ]
  },
  {
   "cell_type": "code",
   "execution_count": 40,
   "id": "8b55f8a2",
   "metadata": {},
   "outputs": [
    {
     "name": "stdout",
     "output_type": "stream",
     "text": [
      "(2, 3)\n"
     ]
    }
   ],
   "source": [
    "a = np.array([[1, 2, 3], \n",
    "                           [4, 5, 6]])\n",
    "print (a.shape)"
   ]
  },
  {
   "cell_type": "markdown",
   "id": "5f7f69db",
   "metadata": {},
   "source": [
    "也可用于调整数组大小"
   ]
  },
  {
   "cell_type": "code",
   "execution_count": 41,
   "id": "7b0d53fa",
   "metadata": {},
   "outputs": [
    {
     "name": "stdout",
     "output_type": "stream",
     "text": [
      "[[1 2]\n",
      " [3 4]\n",
      " [5 6]]\n"
     ]
    }
   ],
   "source": [
    "a.shape = (3, 2)\n",
    "print(a)"
   ]
  },
  {
   "cell_type": "markdown",
   "id": "4c5cb0a1",
   "metadata": {},
   "source": [
    "reshape()同样可以用于调整数组大小"
   ]
  },
  {
   "cell_type": "code",
   "execution_count": 42,
   "id": "0dfc0fa0",
   "metadata": {},
   "outputs": [
    {
     "name": "stdout",
     "output_type": "stream",
     "text": [
      "[[1 2]\n",
      " [3 4]\n",
      " [5 6]]\n"
     ]
    }
   ],
   "source": [
    "a = np.array([[1, 2, 3], \n",
    "                           [4, 5, 6]])\n",
    "print(a.reshape(3, 2))"
   ]
  },
  {
   "cell_type": "markdown",
   "id": "5da98792",
   "metadata": {},
   "source": [
    "- 区别：reshape()通常返回的是非拷贝副本，即改变返回后数组的元素，原数组对应元素的值也会改变"
   ]
  },
  {
   "cell_type": "code",
   "execution_count": 43,
   "id": "8e3d69b5",
   "metadata": {},
   "outputs": [
    {
     "name": "stdout",
     "output_type": "stream",
     "text": [
      "[[1 2 3]\n",
      " [4 5 6]]\n",
      "\n",
      "[1 2 3 4 5 6]\n",
      "\n",
      "[99  2  3  4  5  6]\n",
      "\n",
      "[[99  2  3]\n",
      " [ 4  5  6]]\n"
     ]
    }
   ],
   "source": [
    "a = np.array([[1,2,3],\n",
    "                          [4,5,6]])\n",
    "print(a)\n",
    "print()\n",
    "b = a.reshape((6,))\n",
    "print(b)\n",
    "print()\n",
    "b[0] = 99\n",
    "print(b)\n",
    "print()\n",
    "print(a)"
   ]
  },
  {
   "cell_type": "markdown",
   "id": "1491df58",
   "metadata": {},
   "source": [
    "### ndarray.itemsize\n",
    "以字节的形式返回数组中**每一个元素**的大小"
   ]
  },
  {
   "cell_type": "code",
   "execution_count": 44,
   "id": "5dc8a0ea",
   "metadata": {},
   "outputs": [
    {
     "name": "stdout",
     "output_type": "stream",
     "text": [
      "1\n",
      "8\n"
     ]
    }
   ],
   "source": [
    "# 数组的 dtype 为 int8（一个字节）  \n",
    "x = np.array([1, 2, 3, 4, 5], dtype = np.int8)\n",
    "print(x.itemsize) \n",
    "# 数组的 dtype 现在为 float64（八个字节） \n",
    "y = np.array([1, 2, 3, 4, 5], dtype = np.float64)\n",
    "print(y.itemsize)"
   ]
  },
  {
   "cell_type": "markdown",
   "id": "6da29c4b",
   "metadata": {},
   "source": [
    "### ndarray.flags\n",
    "详见[runoob](https://www.runoob.com/numpy/numpy-array-attributes.html)"
   ]
  },
  {
   "cell_type": "markdown",
   "id": "a2298dbd",
   "metadata": {},
   "source": [
    "## numpy创建数组\n"
   ]
  },
  {
   "cell_type": "markdown",
   "id": "89108f42",
   "metadata": {},
   "source": [
    "### numpy.empty\n",
    "用于创建一个指定形状、数据类型且未初始化的数组\n",
    "```python\n",
    "numpy.empty(shape, dtype = float, order = 'C')\n",
    "```\n",
    "- order有两个可选项，'C'和'F'，分别代表行优先和列优先"
   ]
  },
  {
   "cell_type": "code",
   "execution_count": 45,
   "id": "e16ea27d",
   "metadata": {},
   "outputs": [
    {
     "name": "stdout",
     "output_type": "stream",
     "text": [
      "[[1 2]\n",
      " [3 4]\n",
      " [5 6]]\n"
     ]
    }
   ],
   "source": [
    "x = np.empty([3, 2], dtype = int)\n",
    "print(x)"
   ]
  },
  {
   "cell_type": "markdown",
   "id": "6c22cb52",
   "metadata": {},
   "source": [
    "### numpy.zero/numpy.ones\n",
    "与上面类似，数组元素用0/1来填充"
   ]
  },
  {
   "cell_type": "code",
   "execution_count": 46,
   "id": "be042e71",
   "metadata": {},
   "outputs": [
    {
     "name": "stdout",
     "output_type": "stream",
     "text": [
      "[0. 0. 0. 0. 0.]\n",
      "[0 0 0 0 0]\n",
      "[[(0, 0) (0, 0)]\n",
      " [(0, 0) (0, 0)]]\n"
     ]
    }
   ],
   "source": [
    "# 默认为浮点数\n",
    "x = np.zeros(5) \n",
    "print(x)\n",
    " \n",
    "# 设置类型为整数\n",
    "y = np.zeros((5,), dtype = int) \n",
    "print(y)\n",
    " \n",
    "# 自定义类型\n",
    "z = np.zeros((2,2), dtype = [('x', 'i4'), ('y', 'i4')])  \n",
    "print(z)"
   ]
  },
  {
   "cell_type": "code",
   "execution_count": 47,
   "id": "fd0c3a04",
   "metadata": {},
   "outputs": [
    {
     "name": "stdout",
     "output_type": "stream",
     "text": [
      "[1. 1. 1. 1. 1.]\n",
      "[[1 1]\n",
      " [1 1]]\n"
     ]
    }
   ],
   "source": [
    "# 默认为浮点数\n",
    "x = np.ones(5) \n",
    "print(x)\n",
    " \n",
    "# 自定义类型\n",
    "x = np.ones([2,2], dtype = int)\n",
    "print(x)"
   ]
  },
  {
   "cell_type": "markdown",
   "id": "cd0338e6",
   "metadata": {},
   "source": [
    "## 从已有的数组创建数组\n",
    "### numpy.asarray\n",
    "```python\n",
    "numpy.asarray(a, dtype = None, order = None)\n",
    "```\n",
    "- a是任意形式的输入参数，可以是列表、元祖、多维数组等"
   ]
  },
  {
   "cell_type": "code",
   "execution_count": 48,
   "id": "b44b4a57",
   "metadata": {},
   "outputs": [
    {
     "name": "stdout",
     "output_type": "stream",
     "text": [
      "[1 2 3]\n",
      "[4 5 6]\n",
      "[1. 2. 3.]\n"
     ]
    }
   ],
   "source": [
    "x = [1, 2, 3]\n",
    "a = np.asarray(x)\n",
    "print(a)\n",
    "\n",
    "y = (4, 5, 6)\n",
    "b = np.asarray(y)\n",
    "print(b)\n",
    "\n",
    "a = np.asarray(x, dtype = float)\n",
    "print(a)"
   ]
  },
  {
   "cell_type": "markdown",
   "id": "46ed0a1c",
   "metadata": {},
   "source": [
    "#### numpy.frombuffer\n",
    "用于实现动态数组，接受buffer输入参数，以流的形式读入转换为ndarray对象\n",
    "```python\n",
    "numpy.frombuffer(buffer, dtype = float, count = -1, offset = 0)\n",
    "```\n",
    "- count为读取的数据数量，默认为-1，读取所有数据\n",
    "- offset为读取的起始位置，默认为0"
   ]
  },
  {
   "cell_type": "code",
   "execution_count": 49,
   "id": "3ae3858a",
   "metadata": {},
   "outputs": [
    {
     "name": "stdout",
     "output_type": "stream",
     "text": [
      "[b'H' b'e' b'l' b'l' b'o' b',' b' ' b'w' b'o' b'r' b'l' b'd']\n"
     ]
    }
   ],
   "source": [
    "s = b'Hello, world'\n",
    "a = np.frombuffer(s, dtype = 'S1')\n",
    "print(a)"
   ]
  },
  {
   "cell_type": "markdown",
   "id": "46f654b6",
   "metadata": {},
   "source": [
    "### numpy.fromiter\n",
    "可从迭代对象中建立ndarray对象，返回一维数组\n",
    "```python\n",
    "numpy.fromiter(iterable, dtype, count = -1)\n",
    "```"
   ]
  },
  {
   "cell_type": "code",
   "execution_count": 50,
   "id": "eac9f4da",
   "metadata": {},
   "outputs": [
    {
     "name": "stdout",
     "output_type": "stream",
     "text": [
      "[0. 1. 2. 3. 4.]\n"
     ]
    }
   ],
   "source": [
    "list = range(5)\n",
    "it = iter(list)\n",
    "\n",
    "x = np.fromiter(it, dtype = float)\n",
    "print(x)"
   ]
  },
  {
   "cell_type": "markdown",
   "id": "dfc91cb8",
   "metadata": {},
   "source": [
    "## 从数值范围创建数组\n"
   ]
  },
  {
   "cell_type": "markdown",
   "id": "0aa7dd3b",
   "metadata": {},
   "source": [
    "### numpy.arange\n",
    "```python\n",
    "numpy.arange(start, stop, step, dtype)\n",
    "```"
   ]
  },
  {
   "cell_type": "code",
   "execution_count": 51,
   "id": "ac3f8f02",
   "metadata": {},
   "outputs": [
    {
     "name": "stdout",
     "output_type": "stream",
     "text": [
      "[0 1 2 3 4]\n",
      "[10 12 14 16 18]\n"
     ]
    }
   ],
   "source": [
    "x  = np.arange(5)\n",
    "print(x)\n",
    "y = np.arange(10, 20, 2)\n",
    "print(y)"
   ]
  },
  {
   "cell_type": "markdown",
   "id": "d6e4d51c",
   "metadata": {},
   "source": [
    "### numpy.linspace\n",
    "用于创建一个一维数组，数组是一个**等差数列**构成的\n",
    "```python\n",
    "np.linspace(start, stop, num = 50, endpoint = True, retstep = False, dtype = None)\n",
    "```\n",
    "|参数|\t描述|\n",
    "|:---:|:---|\n",
    "|start\t|序列的起始值|\n",
    "|stop\t|序列的终止值，如果endpoint为true，该值包含于数列中|\n",
    "|num\t|要生成的等步长的样本数量，默认为50|\n",
    "|endpoint\t|该值为 true 时，数列中包含stop值，反之不包含，默认是True|\n",
    "|retstep\t|如果为 True 时，生成的数组中会显示间距，反之不显示|\n",
    "|dtype\t|ndarray 的数据类型|"
   ]
  },
  {
   "cell_type": "code",
   "execution_count": 59,
   "id": "7d294bde",
   "metadata": {},
   "outputs": [
    {
     "name": "stdout",
     "output_type": "stream",
     "text": [
      "[ 1.  2.  3.  4.  5.  6.  7.  8.  9. 10.]\n",
      "[1. 1. 1. 1. 1. 1. 1. 1. 1. 1.]\n",
      "[10. 12. 14. 16. 18.]\n"
     ]
    }
   ],
   "source": [
    "a = np.linspace(1, 10, 10)        # 第三个数字是要生成的样本量，不是步长\n",
    "print(a)\n",
    "a = np.linspace(1, 1, 10)\n",
    "print(a)\n",
    "a = np.linspace(10, 20, 5, endpoint = False)\n",
    "print(a)"
   ]
  },
  {
   "cell_type": "markdown",
   "id": "e2c348a2",
   "metadata": {},
   "source": [
    "### numpy.logspace\n",
    "用于创建一个**等比数列**\n",
    "```py\n",
    "np.logspace(start, stop, num=50, endpoint = True, base=10.0, dtype=None)\n",
    "```\n",
    "|参数|描述|\n",
    "|:---:|:---|\n",
    "|start|\t序列的起始值为：base ** start|\n",
    "|stop|\t序列的终止值为：base ** stop。如果endpoint为true，该值包含于数列中|\n",
    "|num|\t要生成的等步长的样本数量，默认为50|\n",
    "|endpoint|\t该值为 true 时，数列中中包含stop值，反之不包含，默认是True|\n",
    "|base|\t对数 log 的底数|\n",
    "|dtype|\tndarray 的数据类型|"
   ]
  },
  {
   "cell_type": "code",
   "execution_count": 61,
   "id": "fdb78877",
   "metadata": {
    "scrolled": false
   },
   "outputs": [
    {
     "name": "stdout",
     "output_type": "stream",
     "text": [
      "[ 10.          12.91549665  16.68100537  21.5443469   27.82559402\n",
      "  35.93813664  46.41588834  59.94842503  77.42636827 100.        ]\n"
     ]
    }
   ],
   "source": [
    "a = np.logspace(1.0, 2.0, num=10)\n",
    "print(a)"
   ]
  },
  {
   "cell_type": "code",
   "execution_count": 62,
   "id": "47de9149",
   "metadata": {},
   "outputs": [
    {
     "name": "stdout",
     "output_type": "stream",
     "text": [
      "[  1.   2.   4.   8.  16.  32.  64. 128. 256. 512.]\n"
     ]
    }
   ],
   "source": [
    "a = np.logspace(0, 9, 10, base = 2)\n",
    "print(a)"
   ]
  },
  {
   "cell_type": "markdown",
   "id": "5b82ecd7",
   "metadata": {},
   "source": [
    "## 切片和索引\n",
    "切片对象可以通过内置的slice函数，并设置start，stop和step参数进行，从原数组中切割出一个新数组"
   ]
  },
  {
   "cell_type": "code",
   "execution_count": 63,
   "id": "c33c4da7",
   "metadata": {},
   "outputs": [
    {
     "name": "stdout",
     "output_type": "stream",
     "text": [
      "[2 4 6]\n"
     ]
    }
   ],
   "source": [
    "a = np.arange(10)\n",
    "s = slice(2, 7, 2)\n",
    "print(a[s])"
   ]
  },
  {
   "cell_type": "markdown",
   "id": "c3c6fbd5",
   "metadata": {},
   "source": [
    "也可以通过冒号分隔切片参数start:stop:step来进行切片操作"
   ]
  },
  {
   "cell_type": "code",
   "execution_count": 64,
   "id": "297f22a9",
   "metadata": {},
   "outputs": [
    {
     "name": "stdout",
     "output_type": "stream",
     "text": [
      "[2 4 6]\n"
     ]
    }
   ],
   "source": [
    "a = np.arange(10)\n",
    "b = a[2:7:2]\n",
    "print(b)"
   ]
  },
  {
   "cell_type": "code",
   "execution_count": 66,
   "id": "6edc5c1b",
   "metadata": {},
   "outputs": [
    {
     "name": "stdout",
     "output_type": "stream",
     "text": [
      "5\n",
      "[2 3 4 5 6 7 8 9]\n",
      "[2 3 4]\n"
     ]
    }
   ],
   "source": [
    "a = np.arange(10)\n",
    "b = a[5]\n",
    "c = a[2:]            #提取的元素不包括索引\n",
    "d = a[2:5]\n",
    "print(b)\n",
    "print(c)\n",
    "print(d)"
   ]
  },
  {
   "cell_type": "markdown",
   "id": "d1737390",
   "metadata": {},
   "source": [
    "多维数组同样适用上述提取方法"
   ]
  },
  {
   "cell_type": "code",
   "execution_count": 67,
   "id": "a82f98b9",
   "metadata": {},
   "outputs": [
    {
     "name": "stdout",
     "output_type": "stream",
     "text": [
      "[[3 4 5]\n",
      " [4 5 6]]\n"
     ]
    }
   ],
   "source": [
    "a = np.array([[1, 2, 3], [3, 4, 5], [4, 5, 6]])\n",
    "print(a[1:])"
   ]
  },
  {
   "cell_type": "markdown",
   "id": "5447326f",
   "metadata": {},
   "source": [
    "## 高级索引\n",
    "除了之前看到的用整数和切片的索引外，数组可以由整数数组索引、布尔索引及花式索引"
   ]
  },
  {
   "cell_type": "code",
   "execution_count": 68,
   "id": "ac19348c",
   "metadata": {
    "scrolled": true
   },
   "outputs": [
    {
     "name": "stdout",
     "output_type": "stream",
     "text": [
      "[1 4 5]\n"
     ]
    }
   ],
   "source": [
    "x = np.array([[1, 2], \n",
    "                           [3, 4], \n",
    "                           [5, 6]])    \n",
    "y = x[[0, 1, 2], [0, 1, 0]]    #整数数组索引，获取数组中 (0,0)，(1,1) 和 (2,0) 位置处的元素\n",
    "print(y)"
   ]
  },
  {
   "cell_type": "code",
   "execution_count": 73,
   "id": "48a42b3a",
   "metadata": {
    "scrolled": false
   },
   "outputs": [
    {
     "name": "stdout",
     "output_type": "stream",
     "text": [
      "[[0 0]\n",
      " [3 3]]\n",
      "\n",
      "[[0 2]\n",
      " [0 2]]\n",
      "\n",
      "[[ 0  2]\n",
      " [ 9 11]]\n"
     ]
    }
   ],
   "source": [
    "x = np.array([[0, 1, 2],\n",
    "                            [3, 4, 5],\n",
    "                            [6, 7, 8],\n",
    "                            [9, 10, 11]])\n",
    "rows = np.array([[0, 0], [3, 3]])\n",
    "cols = np.array([[0, 2], [0, 2]])\n",
    "print(rows)\n",
    "print()\n",
    "print(cols)\n",
    "print()\n",
    "y = x[rows, cols]        #获取 4X3 数组中的四个角的元素\n",
    "print(y)"
   ]
  },
  {
   "cell_type": "code",
   "execution_count": null,
   "id": "c8e95e91",
   "metadata": {},
   "outputs": [],
   "source": []
  },
  {
   "cell_type": "code",
   "execution_count": null,
   "id": "0ee6623d",
   "metadata": {},
   "outputs": [],
   "source": []
  },
  {
   "cell_type": "code",
   "execution_count": null,
   "id": "a092c37d",
   "metadata": {},
   "outputs": [],
   "source": []
  },
  {
   "cell_type": "code",
   "execution_count": null,
   "id": "d1d720fc",
   "metadata": {},
   "outputs": [],
   "source": []
  },
  {
   "cell_type": "code",
   "execution_count": null,
   "id": "88402745",
   "metadata": {},
   "outputs": [],
   "source": []
  },
  {
   "cell_type": "code",
   "execution_count": null,
   "id": "87fc40ed",
   "metadata": {},
   "outputs": [],
   "source": []
  },
  {
   "cell_type": "code",
   "execution_count": null,
   "id": "bc8e539a",
   "metadata": {},
   "outputs": [],
   "source": []
  }
 ],
 "metadata": {
  "kernelspec": {
   "display_name": "Python 3 (ipykernel)",
   "language": "python",
   "name": "python3"
  },
  "language_info": {
   "codemirror_mode": {
    "name": "ipython",
    "version": 3
   },
   "file_extension": ".py",
   "mimetype": "text/x-python",
   "name": "python",
   "nbconvert_exporter": "python",
   "pygments_lexer": "ipython3",
   "version": "3.9.12"
  }
 },
 "nbformat": 4,
 "nbformat_minor": 5
}
