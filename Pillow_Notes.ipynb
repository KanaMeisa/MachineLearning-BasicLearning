{
 "cells": [
  {
   "cell_type": "markdown",
   "source": [
    "## Pillow库，是Python图像处理的基础库。它提供了非常丰富的功能，主要有如下几点：\n",
    "- Pillow 库能够很轻松的读取和保存各种格式的图片；\n",
    "- Pillow 库提供了简洁易用的 API 接口，可以让您轻松地完成许多图像处理任务；\n",
    "- Pillow 库能够配合 GUI（图形用户界面） 软件包 Tkinter 一起使用；\n",
    "- Pillow 库中的 Image 对象能够与 NumPy ndarray 数组实现相互转换。"
   ],
   "metadata": {
    "collapsed": false
   }
  },
  {
   "cell_type": "code",
   "execution_count": 8,
   "outputs": [],
   "source": [
    "from PIL import Image"
   ],
   "metadata": {
    "collapsed": false
   }
  },
  {
   "cell_type": "markdown",
   "source": [
    "# 创建Image对象\n",
    "## open()"
   ],
   "metadata": {
    "collapsed": false
   }
  },
  {
   "cell_type": "code",
   "execution_count": 9,
   "outputs": [],
   "source": [
    "fp = \"/home/kana/Desktop/Screenshot_20221022_100343.png\"\n",
    "im = Image.open(fp, mode=\"r\")\n",
    "im.show()"
   ],
   "metadata": {
    "collapsed": false
   }
  },
  {
   "cell_type": "markdown",
   "source": [
    "## new()\n",
    "使用此方法可以创建一个新的Image对象，语法格式如下：\n",
    "```python\n",
    "im = Image.new(mode, size,color)\n",
    "```\n",
    "- mode：图像模式，字符串参数，如RGB（真彩图像）、L（灰度图像）、CMYK（色彩图打印模式）等\n",
    "- size：图像大小，元组参数（width，height）代表图像的像素大小\n",
    "- color：图片颜色，默认0代表黑色，参数值支持（R，G，B）三元组数字格式、颜色的十六进制以及颜色英文单词"
   ],
   "metadata": {
    "collapsed": false
   }
  },
  {
   "cell_type": "code",
   "execution_count": 10,
   "outputs": [],
   "source": [
    "im = Image.new(mode='RGB', size=(260, 100), color='#ff0000')\n",
    "im.show()"
   ],
   "metadata": {
    "collapsed": false
   }
  },
  {
   "cell_type": "markdown",
   "source": [
    "# Image对象属性"
   ],
   "metadata": {
    "collapsed": false
   }
  },
  {
   "cell_type": "code",
   "execution_count": 16,
   "outputs": [
    {
     "name": "stdout",
     "output_type": "stream",
     "text": [
      "<PIL.PngImagePlugin.PngImageFile image mode=RGB size=1138x629 at 0x7F4286557CD0>\n",
      "1138 629\n",
      "(1138, 629)\n"
     ]
    }
   ],
   "source": [
    "im = Image.open(fp)\n",
    "print(im)   #可以借此查看图像尺寸\n",
    "print(im.width,im.height)\n",
    "print(im.size)"
   ],
   "metadata": {
    "collapsed": false
   }
  },
  {
   "cell_type": "code",
   "execution_count": 19,
   "outputs": [
    {
     "name": "stdout",
     "output_type": "stream",
     "text": [
      "PNG\n",
      "1\n",
      "{'dpi': (96.012, 96.012)}\n",
      "RGB\n"
     ]
    }
   ],
   "source": [
    "print(im.format)    #查看图片格式\n",
    "print(im.readonly)  #查看图片是否为只读\n",
    "print(im.info)      #查看图片信息\n",
    "print(im.mode)      #查看图像模式"
   ],
   "metadata": {
    "collapsed": false
   }
  },
  {
   "cell_type": "markdown",
   "source": [
    "图片模式对照表\n",
    "\n",
    "|mode| \t描述 |\n",
    "|:---:|:----|\n",
    "|1\t|1 位像素（取值范围 0-1），0表示黑，1 表示白，单色通道|\n",
    "|L\t|8 位像素（取值范围 0 -255），灰度图，单色通道|\n",
    "|P\t|8 位像素，使用调色板映射到任何其他模式，单色通道|\n",
    "|RGB\t|3 x 8位像素，真彩色，三色通道，每个通道的取值范围 0-255|\n",
    "|RGBA\t|4 x 8位像素，真彩色+透明通道，四色通道|\n",
    "|CMYK\t|4 x 8位像素，四色通道，可以适应于打印图片|\n",
    "|YCbCr\t|3 x 8位像素，彩色视频格式，三色通道|\n",
    "|LAB\t|3 x 8位像素，L * a * b颜色空间，三色通道|\n",
    "|HSV\t|3 x 8位像素，色相，饱和度，值颜色空间，三色通道|\n",
    "|I\t|32 位有符号整数像素，单色通道|\n",
    "|F\t|32 位浮点像素，单色通道|"
   ],
   "metadata": {
    "collapsed": false
   }
  },
  {
   "cell_type": "markdown",
   "source": [
    "# 图片格式转换\n",
    "## save()\n",
    "```python\n",
    "Image.save(fp, format=None)\n",
    "```"
   ],
   "metadata": {
    "collapsed": false
   }
  },
  {
   "cell_type": "code",
   "execution_count": 21,
   "outputs": [],
   "source": [
    "im = Image.open(fp)\n",
    "im.save(\"/home/kana/1.bmp\")"
   ],
   "metadata": {
    "collapsed": false
   }
  },
  {
   "cell_type": "markdown",
   "source": [
    "并非所有的图片都可以用上述方法转换完成，比如将PNG转化为JPG格式，直接使用上述方法就会报错"
   ],
   "metadata": {
    "collapsed": false
   }
  },
  {
   "cell_type": "markdown",
   "source": [
    "## convert()\n",
    "可以实现图像的转换\n",
    "```python\n",
    "convert(mode, parms**)\n",
    "```\n",
    "- parms: 其他可选参数"
   ],
   "metadata": {
    "collapsed": false
   }
  },
  {
   "cell_type": "code",
   "execution_count": 24,
   "outputs": [],
   "source": [
    "im = Image.open(fp)\n",
    "im1 = im.convert('RGB')\n",
    "im1.show()"
   ],
   "metadata": {
    "collapsed": false
   }
  },
  {
   "cell_type": "markdown",
   "source": [
    "# 图像缩放\n",
    "## resize()\n",
    "```\n",
    "resize(size, resample=image.BICUBIC, box=None, reducing_gap=None)\n",
    "```\n",
    "- resample：可选参数，指图像重采样滤波器，与 thumbnail() 的 resample 参数类似，默认为 Image.BICUBIC\n",
    "- box：对指定图片区域进行缩放，box的参数值是长度为4的像素坐标元组，即(左,上,右,下). 注意，被指定的区域必须在原图的范围内，如果超出范围就会报错。当不传该参数时，默认对整个原图进行缩放\n",
    "- reducing_gap：可选参数，浮点参数值，用于优化图片的缩放效果，常用参数值有3.0和5.0\n"
   ],
   "metadata": {
    "collapsed": false
   }
  },
  {
   "cell_type": "code",
   "execution_count": 26,
   "outputs": [
    {
     "name": "stdout",
     "output_type": "stream",
     "text": [
      "(550, 260)\n"
     ]
    }
   ],
   "source": [
    "im = Image.open(fp)\n",
    "try:\n",
    "    im2 = im.resize((550, 260))\n",
    "    im2.show()\n",
    "    print(im2.size)\n",
    "except IOError:\n",
    "    print(\"放大失败\")"
   ],
   "metadata": {
    "collapsed": false
   }
  },
  {
   "cell_type": "markdown",
   "source": [
    "对图像的局部进行放大"
   ],
   "metadata": {
    "collapsed": false
   }
  },
  {
   "cell_type": "code",
   "execution_count": 30,
   "outputs": [
    {
     "name": "stdout",
     "output_type": "stream",
     "text": [
      "(550, 260)\n"
     ]
    },
    {
     "name": "stderr",
     "output_type": "stream",
     "text": [
      "/tmp/ipykernel_19110/2832329453.py:2: DeprecationWarning: LANCZOS is deprecated and will be removed in Pillow 10 (2023-07-01). Use Resampling.LANCZOS instead.\n",
      "  im2 = im.resize((550, 260), resample=Image.LANCZOS, box=(0,0,120,180))\n"
     ]
    }
   ],
   "source": [
    "try:\n",
    "    im2 = im.resize((550, 260), resample=Image.LANCZOS, box=(0,0,120,180))\n",
    "    im2.show()\n",
    "    print(im2.size)\n",
    "except IOError:\n",
    "    print(\"放大失败\")"
   ],
   "metadata": {
    "collapsed": false
   }
  },
  {
   "cell_type": "markdown",
   "source": [
    "## 创建缩略图\n",
    "```python\n",
    "thumbnail(size, resample)\n",
    "```\n",
    "- resample：可选参数，指图像重采样滤波器，有四种过滤方式，分别是 Image.BICUBIC（双立方插值法）、PIL.Image.NEAREST（最近邻插值法）、PIL.Image.BILINEAR（双线性插值法）、PIL.Image.LANCZOS（下采样过滤插值法），默认为 Image.BICUBIC"
   ],
   "metadata": {
    "collapsed": false
   }
  },
  {
   "cell_type": "code",
   "execution_count": 31,
   "outputs": [
    {
     "name": "stdout",
     "output_type": "stream",
     "text": [
      "(90, 50)\n"
     ]
    }
   ],
   "source": [
    "im = Image.open(fp)\n",
    "im.thumbnail((150, 50))\n",
    "print(im.size)\n",
    "im.show()"
   ],
   "metadata": {
    "collapsed": false
   }
  },
  {
   "cell_type": "markdown",
   "source": [
    "缩略图的尺寸可能与指定的尺寸不一致，这是因为Pillow会对原图像的长、宽进行等比例缩小，当指定的尺寸不符合图像的尺寸规格时，缩略图就会创建失败,比如指定的尺寸超出了原图像的尺寸规格"
   ],
   "metadata": {
    "collapsed": false
   }
  },
  {
   "cell_type": "markdown",
   "source": [
    "# 图像的分离与合并\n",
    "Image类提供了用于图像分离和合并的方法，这两个方法通常会一起使用"
   ],
   "metadata": {
    "collapsed": false
   }
  },
  {
   "cell_type": "markdown",
   "source": [
    "## split()\n",
    "用来分离颜色通道"
   ],
   "metadata": {
    "collapsed": false
   }
  },
  {
   "cell_type": "code",
   "execution_count": 33,
   "outputs": [],
   "source": [
    "fp2 = \"./Pillow_image/第7节/1.jpg\"\n",
    "im = Image.open(fp2)\n",
    "im = im.resize((450, 400))\n",
    "r, g, b = im.split()\n",
    "r.show()\n",
    "g.show()\n",
    "b.show()"
   ],
   "metadata": {
    "collapsed": false
   }
  },
  {
   "cell_type": "markdown",
   "source": [
    "## merge()\n",
    "可以实现图像的合并，图像合并，可以是单个图像合并，也可以是两个以上的图像\n",
    "```python\n",
    "Image.merge(mode, bands)\n",
    "```\n",
    "- mode: 指定输出图片的模式\n",
    "- bands: 参数类型为元组或列表序列，其元素值是组成图像的颜色通道，比如RGB分别代表三种颜色通道，可以表示为（r, g, b）"
   ],
   "metadata": {
    "collapsed": false
   }
  },
  {
   "cell_type": "markdown",
   "source": [
    "单个图像的合并是指将颜色通道进行重新组合，从而得到不一样的图片效果"
   ],
   "metadata": {
    "collapsed": false
   }
  },
  {
   "cell_type": "code",
   "execution_count": 34,
   "outputs": [],
   "source": [
    "im = Image.open(fp2)\n",
    "im = im.resize((450, 400))\n",
    "r, g, b = im.split()\n",
    "imMerge = Image.merge('RGB', (b, g, r))\n",
    "imMerge.show()"
   ],
   "metadata": {
    "collapsed": false
   }
  },
  {
   "cell_type": "markdown",
   "source": [
    "两张图片合并时，要求两张图片的大小、模式必须保持一致"
   ],
   "metadata": {
    "collapsed": false
   }
  },
  {
   "cell_type": "code",
   "execution_count": 36,
   "outputs": [],
   "source": [
    "fp3 = \"./Pillow_image/第7节/向日葵.jpg\"\n",
    "im1 = Image.open(fp2)\n",
    "im2 = Image.open(fp3)\n",
    "\n",
    "im3 = im2.resize(im1.size)\n",
    "r1, g1, b1 = im1.split()\n",
    "r2 ,g2, b2 = im3.split()\n",
    "\n",
    "im4 = Image.merge('RGB', [r2, g1, b2])\n",
    "im4.show()"
   ],
   "metadata": {
    "collapsed": false
   }
  },
  {
   "cell_type": "markdown",
   "source": [
    "## blend()\n",
    "用于混合RGBA模式的图片（PNG格式）\n",
    "```python\n",
    "Image.blend(image1, image2, alpha)\n",
    "```\n",
    "- alpha: 表示透明度，取值范围从0到1。取值越小，生成的图片越接近与image1，反之越接近image2"
   ],
   "metadata": {
    "collapsed": false
   }
  },
  {
   "cell_type": "code",
   "execution_count": 38,
   "outputs": [],
   "source": [
    "im1 = Image.open(fp2)\n",
    "im2 = Image.open(fp3)\n",
    "\n",
    "im2 = im2.resize(im1.size)\n",
    "Image.blend(im1, im2, 0.5).show()"
   ],
   "metadata": {
    "collapsed": false
   }
  },
  {
   "cell_type": "markdown",
   "source": [
    "# 图像裁剪、复制、粘贴\n",
    "## 图像的裁剪操作\n",
    "```python\n",
    "crop(box=None)\n",
    "```\n",
    "- box：表示裁剪区域，默认为None，表示拷贝原始图像。box 是一个有四个数字的元组参数 (x_左上,y_左下,x1_右上,y1_右下)，分别表示被裁剪矩形区域的左上角 x、y 坐标和右下角 x，y 坐标。默认 (0,0) 表示坐标原点，宽度的方向为 x 轴，高度的方向为 y 轴，每个像素点代表一个单位。"
   ],
   "metadata": {
    "collapsed": false
   }
  },
  {
   "cell_type": "code",
   "execution_count": 39,
   "outputs": [],
   "source": [
    "im = Image.open(fp2)\n",
    "box = (0, 0, 200, 100)\n",
    "im = im.crop(box)\n",
    "im.show()"
   ],
   "metadata": {
    "collapsed": false
   }
  },
  {
   "cell_type": "markdown",
   "source": [
    "## 图像的拷贝和粘贴\n",
    "```python\n",
    "paste(image, box=None, mask=None)\n",
    "```\n",
    "该函数的作用是将一张图片粘贴到另一个图片中，粘贴后的图片模式将自动保持一致\n",
    "- image：被粘贴的图片\n",
    "- box：指定图片被粘贴的位置或者区域，其参数值是长度为2或4的元组序列，长度为2时，表示具体的某一点（x，y）;长度为4则表示图片粘贴的区域，此时区域的大小必须和被粘贴的图片大小保持一致\n",
    "- mask：可选参数，为图片添加蒙版效果"
   ],
   "metadata": {
    "collapsed": false
   }
  },
  {
   "cell_type": "code",
   "execution_count": 40,
   "outputs": [],
   "source": [
    "im = Image.open(fp2)\n",
    "im_copy = im.copy()\n",
    "im_crop = im_copy.crop((0, 0, 200, 100))\n",
    "\n",
    "im_new = Image.new('L', (200, 100), 200)\n",
    "im_copy.paste(im_crop, (100, 100, 300, 200), mask=im_new)\n",
    "im_copy.show()"
   ],
   "metadata": {
    "collapsed": false
   }
  },
  {
   "cell_type": "markdown",
   "source": [
    "# 图像几何变换\n",
    "图像的几何变换主要包括图像翻转、旋转和变换\n",
    "## transpose()\n",
    "可以实现图像的垂直、水平翻转\n",
    "```python\n",
    "Image.transpose(method)\n",
    "```\n",
    "method参数决定了图片要如何翻转\n",
    "- Image.FLIP_LEFT_RIGHT: 左右水平翻转\n",
    "- Image.FLIP_TOP_BOTTOM: 上下垂直翻转\n",
    "- Image.ROTATE_xx: 图像旋转xx度\n",
    "- Image.TRANSPOSE: 图像转置\n",
    "- Image.TRANSVERSE: 图像横向翻转"
   ],
   "metadata": {
    "collapsed": false
   }
  },
  {
   "cell_type": "code",
   "execution_count": 44,
   "outputs": [
    {
     "name": "stderr",
     "output_type": "stream",
     "text": [
      "/tmp/ipykernel_19110/1130959525.py:2: DeprecationWarning: FLIP_LEFT_RIGHT is deprecated and will be removed in Pillow 10 (2023-07-01). Use Transpose.FLIP_LEFT_RIGHT instead.\n",
      "  im_out = im.transpose(Image.FLIP_LEFT_RIGHT)\n"
     ]
    }
   ],
   "source": [
    "im = Image.open(fp2)\n",
    "im_out = im.transpose(Image.FLIP_LEFT_RIGHT)\n",
    "im_out.show()"
   ],
   "metadata": {
    "collapsed": false
   }
  },
  {
   "cell_type": "markdown",
   "source": [
    "## rotate()\n",
    "任意角度翻转\n",
    "```python\n",
    "Image.rotate(angle. resample=PIL.Image.NEAREST, expand=None, center=None, translate=None, fillcolor=None)\n",
    "```\n",
    "- resample：重采样滤波器，默认为PIL.Image.NEAREST最近邻插值方法\n",
    "- expand: 可选参数，表示是否对图像进行扩展，如果参数值为 True 则扩大输出图像，如果为 False 或者省略，则表示按原图像大小输出\n",
    "- center: 可选参数，指定旋转中心，参数值是长度为 2 的元组，默认以图像中心进行旋转\n",
    "- translate：参数值为二元组，表示对旋转后的图像进行平移，以左上角为原点\n",
    "- fillcolor：可选参数，填充颜色，图像旋转后，对图像之外的区域进行填充"
   ],
   "metadata": {
    "collapsed": false
   }
  },
  {
   "cell_type": "code",
   "execution_count": 45,
   "outputs": [],
   "source": [
    "im = Image.open(fp2)\n",
    "im_out = im.rotate(45, translate=(0, -25), fillcolor='green')\n",
    "im_out.show()"
   ],
   "metadata": {
    "collapsed": false
   }
  },
  {
   "cell_type": "code",
   "execution_count": null,
   "outputs": [],
   "source": [],
   "metadata": {
    "collapsed": false
   }
  },
  {
   "cell_type": "code",
   "execution_count": null,
   "outputs": [],
   "source": [],
   "metadata": {
    "collapsed": false
   }
  },
  {
   "cell_type": "code",
   "execution_count": null,
   "outputs": [],
   "source": [],
   "metadata": {
    "collapsed": false
   }
  },
  {
   "cell_type": "code",
   "execution_count": null,
   "outputs": [],
   "source": [],
   "metadata": {
    "collapsed": false
   }
  },
  {
   "cell_type": "code",
   "execution_count": null,
   "outputs": [],
   "source": [],
   "metadata": {
    "collapsed": false
   }
  },
  {
   "cell_type": "code",
   "execution_count": null,
   "outputs": [],
   "source": [],
   "metadata": {
    "collapsed": false
   }
  },
  {
   "cell_type": "code",
   "execution_count": null,
   "outputs": [],
   "source": [],
   "metadata": {
    "collapsed": false
   }
  },
  {
   "cell_type": "code",
   "execution_count": null,
   "outputs": [],
   "source": [],
   "metadata": {
    "collapsed": false
   }
  },
  {
   "cell_type": "code",
   "execution_count": null,
   "outputs": [],
   "source": [],
   "metadata": {
    "collapsed": false
   }
  },
  {
   "cell_type": "code",
   "execution_count": null,
   "outputs": [],
   "source": [],
   "metadata": {
    "collapsed": false
   }
  },
  {
   "cell_type": "code",
   "execution_count": null,
   "outputs": [],
   "source": [],
   "metadata": {
    "collapsed": false
   }
  },
  {
   "cell_type": "code",
   "execution_count": null,
   "outputs": [],
   "source": [],
   "metadata": {
    "collapsed": false
   }
  },
  {
   "cell_type": "code",
   "execution_count": null,
   "outputs": [],
   "source": [],
   "metadata": {
    "collapsed": false
   }
  },
  {
   "cell_type": "code",
   "execution_count": null,
   "outputs": [],
   "source": [],
   "metadata": {
    "collapsed": false
   }
  },
  {
   "cell_type": "code",
   "execution_count": null,
   "outputs": [],
   "source": [],
   "metadata": {
    "collapsed": false
   }
  },
  {
   "cell_type": "code",
   "execution_count": null,
   "outputs": [],
   "source": [],
   "metadata": {
    "collapsed": false
   }
  },
  {
   "cell_type": "code",
   "execution_count": null,
   "outputs": [],
   "source": [],
   "metadata": {
    "collapsed": false
   }
  },
  {
   "cell_type": "code",
   "execution_count": null,
   "outputs": [],
   "source": [],
   "metadata": {
    "collapsed": false
   }
  },
  {
   "cell_type": "code",
   "execution_count": null,
   "outputs": [],
   "source": [],
   "metadata": {
    "collapsed": false
   }
  },
  {
   "cell_type": "code",
   "execution_count": null,
   "outputs": [],
   "source": [],
   "metadata": {
    "collapsed": false
   }
  },
  {
   "cell_type": "code",
   "execution_count": null,
   "outputs": [],
   "source": [],
   "metadata": {
    "collapsed": false
   }
  },
  {
   "cell_type": "code",
   "execution_count": null,
   "outputs": [],
   "source": [],
   "metadata": {
    "collapsed": false
   }
  },
  {
   "cell_type": "code",
   "execution_count": null,
   "outputs": [],
   "source": [],
   "metadata": {
    "collapsed": false
   }
  },
  {
   "cell_type": "code",
   "execution_count": null,
   "outputs": [],
   "source": [],
   "metadata": {
    "collapsed": false
   }
  }
 ],
 "metadata": {
  "kernelspec": {
   "display_name": "Python 3",
   "language": "python",
   "name": "python3"
  },
  "language_info": {
   "codemirror_mode": {
    "name": "ipython",
    "version": 2
   },
   "file_extension": ".py",
   "mimetype": "text/x-python",
   "name": "python",
   "nbconvert_exporter": "python",
   "pygments_lexer": "ipython2",
   "version": "2.7.6"
  }
 },
 "nbformat": 4,
 "nbformat_minor": 0
}
