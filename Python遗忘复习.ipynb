{
 "cells": [
  {
   "cell_type": "markdown",
   "id": "71ac2847",
   "metadata": {},
   "source": [
    " ## 2 变量和简单数据类型\n",
    " \n",
    "#### 2.3.1 使用方法修改字符串的大小写"
   ]
  },
  {
   "cell_type": "code",
   "execution_count": 1,
   "id": "ce9e9d36",
   "metadata": {},
   "outputs": [
    {
     "name": "stdout",
     "output_type": "stream",
     "text": [
      "Ada John\n",
      "ADA JOHN\n",
      "ada john\n"
     ]
    }
   ],
   "source": [
    " name = \"ada johN\"\n",
    " print(name.title())\n",
    " print(name.upper())\n",
    " print(name.lower())"
   ]
  },
  {
   "cell_type": "markdown",
   "id": "09d52634",
   "metadata": {},
   "source": [
    "\n",
    "#### 2.3.2 在字符串中使用变量"
   ]
  },
  {
   "cell_type": "code",
   "execution_count": 2,
   "id": "e3e8c6ed",
   "metadata": {},
   "outputs": [
    {
     "name": "stdout",
     "output_type": "stream",
     "text": [
      "Ada John\n"
     ]
    }
   ],
   "source": [
    "first_name = \"Ada\"\n",
    "last_name = \"John\"\n",
    "full_name = f\"{first_name} {last_name}\"\n",
    "print(full_name)"
   ]
  },
  {
   "cell_type": "markdown",
   "id": "2da7d352",
   "metadata": {},
   "source": [
    "\n",
    "#### 2.3.4 删除空白"
   ]
  },
  {
   "cell_type": "code",
   "execution_count": 6,
   "id": "72be8987",
   "metadata": {},
   "outputs": [
    {
     "name": "stdout",
     "output_type": "stream",
     "text": [
      "Python \n",
      "Python\n"
     ]
    }
   ],
   "source": [
    "language = \"Python \"\n",
    "print(language)\n",
    "print(language.rstrip())"
   ]
  },
  {
   "cell_type": "markdown",
   "id": "6df61eec",
   "metadata": {},
   "source": [
    "\n",
    "\n",
    "## 3 列表\n",
    "\n",
    "#### 3.2.2 在列表中插入元素"
   ]
  },
  {
   "cell_type": "code",
   "execution_count": 7,
   "id": "7682cebf",
   "metadata": {},
   "outputs": [
    {
     "name": "stdout",
     "output_type": "stream",
     "text": [
      "['elem', 'abc', '123', 'dw35gf']\n"
     ]
    }
   ],
   "source": [
    "list = ['abc', '123', 'dw35gf']\n",
    "list.insert(0, 'elem')\n",
    "print(list)"
   ]
  },
  {
   "cell_type": "markdown",
   "id": "05fa9a90",
   "metadata": {},
   "source": [
    "\n",
    "#### 3.2.3 从列表中删除元素"
   ]
  },
  {
   "cell_type": "code",
   "execution_count": 8,
   "id": "34e858fb",
   "metadata": {},
   "outputs": [
    {
     "name": "stdout",
     "output_type": "stream",
     "text": [
      "['123']\n"
     ]
    }
   ],
   "source": [
    "del list[1]  \t\t\t            #根据索引删除元素\n",
    "list.pop(2)  \t\t\t          #根据索引删除元素，还可以将被删除的元素赋给其他变量\n",
    "list.remove('elem') \t#根据值删除元素, 但一次只能删除一个元素\n",
    "print(list)"
   ]
  },
  {
   "cell_type": "markdown",
   "id": "1a32eeaf",
   "metadata": {},
   "source": [
    "\n",
    "#### 3.3 组织列表"
   ]
  },
  {
   "cell_type": "code",
   "execution_count": 9,
   "id": "5f704b4b",
   "metadata": {},
   "outputs": [
    {
     "name": "stdout",
     "output_type": "stream",
     "text": [
      "['abg', 'chg', 'hfv', 'zmn']\n",
      "['abg', 'chg', 'hfv', 'zmn']\n",
      "['zmn', 'hfv', 'chg', 'abg']\n",
      "4\n"
     ]
    }
   ],
   "source": [
    "list = ['abg', 'hfv', 'chg', 'zmn']\n",
    "print(sorted(list))\t\t#对列表临时排序\n",
    "list.sort()\t\t\t\t         #对列表永久排序\n",
    "print(list)\n",
    "list.reverse()\t\t\t     #永久颠倒列表\n",
    "print(list)\n",
    "l = len(list)\t\t\t\t    #获取列表长度\n",
    "print(l)"
   ]
  },
  {
   "cell_type": "markdown",
   "id": "69724af6",
   "metadata": {},
   "source": [
    "\n",
    "\n",
    "##  6 字典\n",
    "\n",
    "#### 6.2.2 添加键值对\n"
   ]
  },
  {
   "cell_type": "code",
   "execution_count": 10,
   "id": "bb152097",
   "metadata": {},
   "outputs": [
    {
     "name": "stdout",
     "output_type": "stream",
     "text": [
      "{'a': 99, 'b': 100, 'x': 0, 'y': 1}\n"
     ]
    }
   ],
   "source": [
    "dic = {'a' : 99, 'b' : 100}\n",
    "dic['x'] = 0\n",
    "dic['y'] = 1\n",
    "print(dic)"
   ]
  },
  {
   "cell_type": "markdown",
   "id": "ef18f943",
   "metadata": {},
   "source": [
    "\n",
    "#### 6.2.5 删除键值对"
   ]
  },
  {
   "cell_type": "code",
   "execution_count": 11,
   "id": "b3de237c",
   "metadata": {},
   "outputs": [
    {
     "name": "stdout",
     "output_type": "stream",
     "text": [
      "['zmn', 'hfv', 'chg', 'abg']\n"
     ]
    }
   ],
   "source": [
    "del dic['x']\n",
    "print(list)"
   ]
  },
  {
   "cell_type": "markdown",
   "id": "e1f66b4e",
   "metadata": {},
   "source": [
    "\n",
    "#### 6.2.7 使用get()来访问值"
   ]
  },
  {
   "cell_type": "code",
   "execution_count": 13,
   "id": "7553ace9",
   "metadata": {},
   "outputs": [
    {
     "name": "stdout",
     "output_type": "stream",
     "text": [
      "No Value assigned\n",
      "1\n"
     ]
    }
   ],
   "source": [
    "point_value = dic.get('x', 'No Value assigned')\n",
    "print(point_value)\n",
    "point_value = dic.get('y', 'NO Value assigned')\n",
    "print(point_value)"
   ]
  },
  {
   "cell_type": "markdown",
   "id": "505c73d5",
   "metadata": {},
   "source": [
    "\n",
    "## 9 类\n"
   ]
  },
  {
   "cell_type": "markdown",
   "id": "640590e2",
   "metadata": {},
   "source": [
    "#### 9.2 使用类和实例 "
   ]
  },
  {
   "cell_type": "code",
   "execution_count": 3,
   "id": "d2a92957",
   "metadata": {},
   "outputs": [
    {
     "name": "stdout",
     "output_type": "stream",
     "text": [
      "2019 Audi A4\n"
     ]
    }
   ],
   "source": [
    "class Car:\n",
    "        def __init__(self, make, model, year):\n",
    "                self.make = make\n",
    "                self.model = model\n",
    "                self.year = year\n",
    "                \n",
    "        def get_info(self):\n",
    "                info = f\"{self.year} {self.make} {self.model}\"\n",
    "                return info.title()\n",
    "            \n",
    "myCar = Car('audi', 'a4', 2019)\n",
    "print(myCar.get_info())"
   ]
  },
  {
   "cell_type": "markdown",
   "id": "83957b77",
   "metadata": {},
   "source": [
    "\n",
    "#### 9.2.2 给属性指定默认值"
   ]
  },
  {
   "cell_type": "code",
   "execution_count": 5,
   "id": "48425484",
   "metadata": {},
   "outputs": [
    {
     "name": "stdout",
     "output_type": "stream",
     "text": [
      "2019 Audi A4\n",
      "This car has 0 miles on it.\n"
     ]
    }
   ],
   "source": [
    "class Car:\n",
    "        def __init__(self, make, model, year):\n",
    "                self.make = make\n",
    "                self.model = model\n",
    "                self.year = year\n",
    "                self.odometer = 0\n",
    "                \n",
    "        def get_info(self):\n",
    "                info = f\"{self.year} {self.make} {self.model}\"\n",
    "                return info.title()\n",
    "            \n",
    "        def read_odometer(self):\n",
    "                print(f\"This car has {self.odometer} miles on it.\")\n",
    "            \n",
    "myCar = Car('audi', 'a4', 2019)\n",
    "print(myCar.get_info())\n",
    "myCar.read_odometer()"
   ]
  },
  {
   "cell_type": "markdown",
   "id": "63421f96",
   "metadata": {},
   "source": [
    "\n",
    "#### 9.3 继承"
   ]
  },
  {
   "cell_type": "code",
   "execution_count": 13,
   "id": "f60486b2",
   "metadata": {},
   "outputs": [
    {
     "name": "stdout",
     "output_type": "stream",
     "text": [
      "2019 Telsa S\n",
      "75\n",
      "NNN\n"
     ]
    }
   ],
   "source": [
    "class EleCar(Car):\n",
    "        def __init__(self, make, model, year):\n",
    "                Car.__init__(self, make, model, year)\n",
    "                self.battery = 75\n",
    "                \n",
    "        def read_battery(self):\n",
    "                print(self.battery)\n",
    "                \n",
    "        def read_odometer(self):\n",
    "                print(\"NNN\")\n",
    "                \n",
    "myNewCar = EleCar('telsa', 's', 2019)\n",
    "print(myNewCar.get_info())\n",
    "myNewCar.read_battery()\n",
    "myNewCar.read_odometer()"
   ]
  }
 ],
 "metadata": {
  "kernelspec": {
   "display_name": "Python 3 (ipykernel)",
   "language": "python",
   "name": "python3"
  },
  "language_info": {
   "codemirror_mode": {
    "name": "ipython",
    "version": 3
   },
   "file_extension": ".py",
   "mimetype": "text/x-python",
   "name": "python",
   "nbconvert_exporter": "python",
   "pygments_lexer": "ipython3",
   "version": "3.10.7"
  }
 },
 "nbformat": 4,
 "nbformat_minor": 5
}
