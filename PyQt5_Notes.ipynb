{
 "cells": [
  {
   "cell_type": "markdown",
   "source": [
    "# 第一章 PyQt5的基本功能"
   ],
   "metadata": {
    "collapsed": false
   }
  },
  {
   "cell_type": "code",
   "execution_count": null,
   "outputs": [],
   "source": [
    "import sys\n",
    "from PyQt5.QtWidgets import QApplication, QWidget\n",
    "\n",
    "if __name__ == '__main__':\n",
    "    app = QApplication(sys.argv)    # 引入PyQt5.QtWidgets模块，这个模块包含了基本组件\n",
    "\n",
    "    w = QWidget()   # 每个PyQt5应用都必须创建一个应用对象\n",
    "    w.resize(400, 400)  # 改变控件的大小\n",
    "    w.move(400, 400)    # 改变控件的位置\n",
    "    w.setWindowTitle('Title bar')   # 显示标题\n",
    "    w.show()\n",
    "\n",
    "    sys.exit(app.exec_())"
   ],
   "metadata": {
    "collapsed": false
   }
  },
  {
   "cell_type": "code",
   "execution_count": null,
   "outputs": [],
   "source": [],
   "metadata": {
    "collapsed": false
   }
  }
 ],
 "metadata": {
  "kernelspec": {
   "display_name": "Python 3 (ipykernel)",
   "language": "python",
   "name": "python3"
  },
  "language_info": {
   "codemirror_mode": {
    "name": "ipython",
    "version": 3
   },
   "file_extension": ".py",
   "mimetype": "text/x-python",
   "name": "python",
   "nbconvert_exporter": "python",
   "pygments_lexer": "ipython3",
   "version": "3.10.7"
  }
 },
 "nbformat": 4,
 "nbformat_minor": 5
}
