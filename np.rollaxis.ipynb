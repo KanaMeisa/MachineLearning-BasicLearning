{
 "cells": [
  {
   "cell_type": "markdown",
   "id": "cd27d737",
   "metadata": {},
   "source": [
    "理解numpy数组的轴\n",
    "\n",
    "轴(axis)是数组中维的标志， 通过以下实例说明\n"
   ]
  },
  {
   "cell_type": "markdown",
   "id": "b2177749",
   "metadata": {},
   "source": [
    "| | 0      | 1 |2|3|4|\n",
    "|---| ----------- | ----------- |---|---|---|\n",
    "|0| 78    | 34       |87|25|83|\n",
    "|1| 25  | 67        |97|22|13|\n",
    "|2|78|43|87|45|89|\n",
    "\n",
    "上面的表格，横轴就是排，纵轴就是列\n",
    "\n"
   ]
  },
  {
   "cell_type": "markdown",
   "id": "2c54a3f3",
   "metadata": {},
   "source": [
    "给它加上数组下标，变成下表\n",
    "\n",
    "| | 0      | 1 |2|3|4|\n",
    "|---| ----------- | ----------- |---|---|---|\n",
    "|0| 78(00)    | 34(01)       |87(02)|25(03)|83(04)|\n",
    "|1| 25(10)  | 67(11)        |97(12)|22(13)|13(14)|\n",
    "|2|78(20)|43(21)|87(22)|45(23)|89(24)|"
   ]
  },
  {
   "cell_type": "markdown",
   "id": "9f89236e",
   "metadata": {},
   "source": [
    "用下面的实例求最大值"
   ]
  },
  {
   "cell_type": "code",
   "execution_count": 1,
   "id": "282e4d1a",
   "metadata": {},
   "outputs": [
    {
     "name": "stdout",
     "output_type": "stream",
     "text": [
      "[78 67 97 45 89]\n",
      "[87 97 89]\n"
     ]
    }
   ],
   "source": [
    "import numpy as np\n",
    "a = np.array([[78, 34, 87, 25, 83], [25, 67, 97, 22, 13], [78, 43, 87, 45, 89]])\n",
    "print(a.max(axis = 0))\n",
    "print(a.max(axis = 1))"
   ]
  },
  {
   "cell_type": "markdown",
   "id": "dee57801",
   "metadata": {},
   "source": [
    "由上述实例可知，**axis=0就是纵轴的数据，axis=1时是横轴的数据**"
   ]
  },
  {
   "cell_type": "markdown",
   "id": "44bb1f38",
   "metadata": {},
   "source": [
    "下面创建一个三维数组\n",
    "\n",
    "|     | 0 | 1 |\n",
    "| :-----: | :-----: | :-----: |\n",
    "| 00 | 0(000) | 1(001) |\n",
    "| 01 | 2(010) | 3(011) |\n",
    "| 10 | 4(100) | 5(101) |\n",
    "| 11 | 6(110) | 7(111) |\n"
   ]
  },
  {
   "cell_type": "code",
   "execution_count": 2,
   "id": "5b60a003",
   "metadata": {},
   "outputs": [
    {
     "name": "stdout",
     "output_type": "stream",
     "text": [
      "[[[0 1]\n",
      "  [2 3]]\n",
      "\n",
      " [[4 5]\n",
      "  [6 7]]]\n",
      "--------------------------\n",
      "[[4 5]\n",
      " [6 7]]\n",
      "\n",
      "[[2 3]\n",
      " [6 7]]\n",
      "\n",
      "[[1 3]\n",
      " [5 7]]\n"
     ]
    }
   ],
   "source": [
    "import numpy as np\n",
    "a = np.array([[[0, 1], [2, 3]], [[4, 5], [6, 7]]])\n",
    "print(a)\n",
    "print(\"--------------------------\")\n",
    "print(a.max(axis=0))\n",
    "print()\n",
    "print(a.max(axis=1))\n",
    "print()\n",
    "print(a.max(axis=2))"
   ]
  },
  {
   "cell_type": "markdown",
   "id": "b84dc3e4",
   "metadata": {},
   "source": [
    "如右图所示，上述数组以图中方式排列 \n",
    "\n",
    "索引中靠前的为深度，其次为宽度，最后为长度。\n",
    "\n",
    "生成的数组中，靠近原点的先进行排列\n"
   ]
  },
  {
   "cell_type": "markdown",
   "id": "498e88da",
   "metadata": {},
   "source": [
    "## numpy.rollaxis(arr, axis, start)\n",
    "- arr: 输入数组\n",
    "- axis: 要向后滚动的轴，其他的轴相对位置不会变\n",
    "- start: 默认为0，表示完整的滚动，否则滚动到特定位置\n",
    "\n",
    "实例："
   ]
  },
  {
   "cell_type": "code",
   "execution_count": 1,
   "id": "381e14b0",
   "metadata": {},
   "outputs": [
    {
     "name": "stdout",
     "output_type": "stream",
     "text": [
      "原数组：\n",
      "[[[0 1]\n",
      "  [2 3]]\n",
      "\n",
      " [[4 5]\n",
      "  [6 7]]]\n",
      "----------------------\n",
      "(a, 2)\n",
      "[[[0 2]\n",
      "  [4 6]]\n",
      "\n",
      " [[1 3]\n",
      "  [5 7]]]\n",
      "----------------------\n",
      "(a, 2, 1)\n",
      "[[[0 2]\n",
      "  [1 3]]\n",
      "\n",
      " [[4 6]\n",
      "  [5 7]]]\n"
     ]
    }
   ],
   "source": [
    "import numpy as np\n",
    "\n",
    "a = np.arange(8).reshape(2, 2, 2)\n",
    "print(\"原数组：\")\n",
    "print(a)\n",
    "print(\"----------------------\")\n",
    "\n",
    "print(\"(a, 2)\")\n",
    "print(np.rollaxis(a, 2))      # 将轴 2 滚动到轴 0（宽度到深度）\n",
    "print(\"----------------------\")\n",
    "\n",
    "print(\"(a, 2, 1)\")      # 将轴 0 滚动到轴 1：（宽度到高度）\n",
    "print(np.rollaxis(a, 2, 1))"
   ]
  },
  {
   "cell_type": "code",
   "execution_count": null,
   "id": "adea6c8f",
   "metadata": {},
   "outputs": [],
   "source": []
  },
  {
   "cell_type": "code",
   "execution_count": null,
   "id": "27119482",
   "metadata": {},
   "outputs": [],
   "source": []
  },
  {
   "cell_type": "code",
   "execution_count": null,
   "id": "cc47ff96",
   "metadata": {},
   "outputs": [],
   "source": []
  },
  {
   "cell_type": "code",
   "execution_count": null,
   "id": "fe51f33a",
   "metadata": {},
   "outputs": [],
   "source": []
  },
  {
   "cell_type": "code",
   "execution_count": null,
   "id": "0f64691d",
   "metadata": {},
   "outputs": [],
   "source": []
  },
  {
   "cell_type": "code",
   "execution_count": null,
   "id": "fd6987fe",
   "metadata": {},
   "outputs": [],
   "source": []
  },
  {
   "cell_type": "code",
   "execution_count": null,
   "id": "386fcaca",
   "metadata": {},
   "outputs": [],
   "source": []
  },
  {
   "cell_type": "code",
   "execution_count": null,
   "id": "931a5d1c",
   "metadata": {},
   "outputs": [],
   "source": []
  },
  {
   "cell_type": "code",
   "execution_count": null,
   "id": "ed99ae42",
   "metadata": {},
   "outputs": [],
   "source": []
  },
  {
   "cell_type": "code",
   "execution_count": null,
   "id": "bda165e3",
   "metadata": {},
   "outputs": [],
   "source": []
  },
  {
   "cell_type": "code",
   "execution_count": null,
   "id": "ea405cd4",
   "metadata": {},
   "outputs": [],
   "source": []
  },
  {
   "cell_type": "code",
   "execution_count": null,
   "id": "f2372405",
   "metadata": {},
   "outputs": [],
   "source": []
  },
  {
   "cell_type": "code",
   "execution_count": null,
   "id": "16e0aae1",
   "metadata": {},
   "outputs": [],
   "source": []
  },
  {
   "cell_type": "code",
   "execution_count": null,
   "id": "02f3319d",
   "metadata": {},
   "outputs": [],
   "source": []
  }
 ],
 "metadata": {
  "kernelspec": {
   "display_name": "Python 3 (ipykernel)",
   "language": "python",
   "name": "python3"
  },
  "language_info": {
   "codemirror_mode": {
    "name": "ipython",
    "version": 3
   },
   "file_extension": ".py",
   "mimetype": "text/x-python",
   "name": "python",
   "nbconvert_exporter": "python",
   "pygments_lexer": "ipython3",
   "version": "3.9.12"
  }
 },
 "nbformat": 4,
 "nbformat_minor": 5
}
