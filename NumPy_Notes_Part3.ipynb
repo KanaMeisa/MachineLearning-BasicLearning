{
 "cells": [
  {
   "cell_type": "markdown",
   "id": "6a4e8bfd",
   "metadata": {},
   "source": [
    "# 位运算\n",
    "[runoob](https://www.runoob.com/numpy/numpy-binary-operators.html)\n"
   ]
  },
  {
   "cell_type": "markdown",
   "id": "43a6d6a6",
   "metadata": {},
   "source": [
    "/home/kana/Desktop/Python_Test/PyQt_Learning# 字符串函数\n",
    "以下函数对dtype为numpy.string_或numpy.unicode_的数组执行向量化字符串操作\n",
    "\n",
    "这些函数在字符数组类（numpy.char）中定义\n",
    "\n",
    "|函数|\t描述|\n",
    "|:---:|:---|\n",
    "|add()|\t对两个数组的逐个字符串元素进行**连接**|\n",
    "|multiply()|\t返回按元素**多重连接**后的字符串|\n",
    "|center()|\t**居中**字符串|\n",
    "|capitalize()|\t将字符串第一个字母转换为大写|\n",
    "|title()|\t将字符串的每个单词的第一个字母转换为大写|\n",
    "|lower()|\t数组元素转换为小写|\n",
    "|upper()|\t数组元素转换为大写|\n",
    "|split()|\t指定分隔符对字符串进行**分割**，并返回数组列表|\n",
    "|splitlines()|\t返回元素中的行列表，以换行符**分割**|\n",
    "|strip()|\t**移除**元素开头或者结尾处的特定字符|\n",
    "|join()|\t通过指定分隔符来**连接**数组中的元素|\n",
    "|replace()|\t使用新字符串**替换**字符串中的所有子字符串|\n",
    "|decode()|\t数组元素依次调用str.decode|\n",
    "|encode()|\t数组元素依次调用str.encode|"
   ]
  },
  {
   "cell_type": "code",
   "execution_count": 2,
   "id": "8032dc09",
   "metadata": {},
   "outputs": [
    {
     "name": "stdout",
     "output_type": "stream",
     "text": [
      "使用add()连接两个字符串：\n",
      "['Hello, World!']\n",
      "['Hello abc' 'Hi xyz']\n",
      "\n",
      "使用multiply()进行多重连接：\n",
      "HelloWorldHelloWorldHelloWorld\n",
      "\n",
      "使用center()使字符串居中：\n",
      "#####HelloWorld#####\n",
      "\n",
      "使用capitalize()将字符串的第一个字母转换为大写：\n",
      "Hello\n",
      "\n",
      "使用title()将每个单词的首字母大写：\n",
      "Hello World\n",
      "\n",
      "使用lower()、upper()对所有字母大小写：\n",
      "hello\n",
      "WORLD\n",
      "\n",
      "使用splitlines()以换行符为分隔来分隔字符串，并返回数组：\n",
      "\\n，\\r，\\r\\n 都可用作换行符\n",
      "['I love ', ' the world']\n",
      "['I love ', ' the world']\n"
     ]
    }
   ],
   "source": [
    "import numpy as np\n",
    "print(\"使用add()连接两个字符串：\")\n",
    "print(np.char.add(['Hello, '], ['World!']))\n",
    "print(np.char.add(['Hello ', 'Hi '], ['abc', 'xyz']))\n",
    "print()\n",
    "\n",
    "print(\"使用multiply()进行多重连接：\")\n",
    "print(np.char.multiply('HelloWorld', 3))\n",
    "print()\n",
    "\n",
    "print(\"使用center()使字符串居中：\")\n",
    "print(np.char.center('HelloWorld', 20, fillchar='#'))\n",
    "print()\n",
    "\n",
    "print(\"使用capitalize()将字符串的第一个字母转换为大写：\")\n",
    "print(np.char.capitalize('hello'))\n",
    "print()\n",
    "\n",
    "print(\"使用title()将每个单词的首字母大写：\")\n",
    "print(np.char.title('hello world'))\n",
    "print()\n",
    "\n",
    "print(\"使用lower()、upper()对所有字母大小写：\")\n",
    "print(np.char.lower('HELLO'))\n",
    "print(np.char.upper('world'))\n",
    "print()\n",
    "\n",
    "print(\"使用splitlines()以换行符为分隔来分隔字符串，并返回数组：\")\n",
    "print(\"\\\\n，\\\\r，\\\\r\\\\n 都可用作换行符\")\n",
    "print(np.char.splitlines('I love \\n the world'))\n",
    "print(np.char.splitlines('I love \\r the world'))"
   ]
  },
  {
   "cell_type": "code",
   "execution_count": 22,
   "id": "d1c4994c",
   "metadata": {},
   "outputs": [
    {
     "name": "stdout",
     "output_type": "stream",
     "text": [
      "strip()用于移除开头或结尾处的特定字符: \n",
      "pyter Notebook\n",
      "Jupyter  Noteb\n",
      "\n",
      "join()通过分隔符来连接数组元素中的元素或字符串：\n",
      "H : E : L : L : O\n",
      "['g : o : o : g : l : e' 'b - r - a - i - n']\n",
      "\n",
      "replace()使用新字符串替换字符串中所有子字符串：\n",
      "Hello wccld\n",
      "\n",
      "encode()对数组中每个元素调用str,encode函数，默认编码是 utf-8，可以使用标准 Python 库中的编解码器\n",
      "b'\\x99\\xa4\\x95\\x96\\x96\\x82'\n",
      "\n",
      "decode() 函数对编码的元素进行 str.decode() 解码\n",
      "b'\\x99\\xa4\\x95\\x96\\x96\\x82'\n",
      "runoob\n"
     ]
    }
   ],
   "source": [
    "print(\"strip()用于移除开头或结尾处的特定字符: \")\n",
    "print(np.char.strip('Jupyter Notebook', 'Ju'))\n",
    "print(np.char.strip('Jupyter  Notebok', 'ok'))\n",
    "print()\n",
    "\n",
    "print(\"join()通过分隔符来连接数组元素中的元素或字符串：\")\n",
    "print(np.char.join(' : ', 'HELLO'))\n",
    "print(np.char.join([' : ', ' - '], ['google', 'brain']))\n",
    "print()\n",
    "\n",
    "print(\"replace()使用新字符串替换字符串中所有子字符串：\")\n",
    "print(np.char.replace('Hello world', 'or', 'cc'))\n",
    "print()\n",
    "\n",
    "print(\"encode()对数组中每个元素调用str,encode函数，默认编码是 utf-8，可以使用标准 Python 库中的编解码器\")\n",
    "a = np.char.encode('runoob', 'cp500') \n",
    "print (a)\n",
    "print()\n",
    "\n",
    "print(\"decode() 函数对编码的元素进行 str.decode() 解码\")\n",
    "a = np.char.encode('runoob', 'cp500') \n",
    "print (a)\n",
    "print (np.char.decode(a,'cp500'))"
   ]
  },
  {
   "cell_type": "markdown",
   "id": "3209853e",
   "metadata": {},
   "source": [
    "# 数学函数\n",
    "NumPy包含大量的各种数学运算的函数，包括三角函数、算术运算的函数及复数处理函数等"
   ]
  },
  {
   "cell_type": "markdown",
   "id": "7fefc552",
   "metadata": {},
   "source": [
    "## 三角函数\n",
    "sin()、cos()和tan()\n",
    "\n",
    "arcsin()、arccos()和arctan()\n",
    "\n",
    "numpy.degrees() 函数可以将弧度转换为角度"
   ]
  },
  {
   "cell_type": "code",
   "execution_count": 24,
   "id": "0c2f9951",
   "metadata": {},
   "outputs": [
    {
     "name": "stdout",
     "output_type": "stream",
     "text": [
      "[0.         0.5        0.70710678 0.8660254  1.        ]\n",
      "\n",
      "[1.00000000e+00 8.66025404e-01 7.07106781e-01 5.00000000e-01\n",
      " 6.12323400e-17]\n",
      "\n",
      "[0.00000000e+00 5.77350269e-01 1.00000000e+00 1.73205081e+00\n",
      " 1.63312394e+16]\n"
     ]
    }
   ],
   "source": [
    "a = np.array([0, 30, 45, 60, 90])\n",
    "print(np.sin(a * np.pi / 180))\n",
    "print()\n",
    "print(np.cos(a * np.pi / 180))\n",
    "print()\n",
    "print(np.tan(a * np.pi / 180))"
   ]
  },
  {
   "cell_type": "markdown",
   "id": "6b4a595c",
   "metadata": {},
   "source": [
    "## 舍入函数\n",
    "### numpy.around()\n",
    "返回指定数字的四舍五入值\n",
    "```py\n",
    "numpy.around(a, decimals)\n",
    "```\n",
    "- decimals：舍入的小数位数，默认为0；如果为负数，整数将四舍五入到小数点左侧的位置"
   ]
  },
  {
   "cell_type": "code",
   "execution_count": 26,
   "id": "5add410c",
   "metadata": {
    "scrolled": true
   },
   "outputs": [
    {
     "name": "stdout",
     "output_type": "stream",
     "text": [
      "[  1.   6. 123.   1.  26.]\n",
      "[  1.    5.6 123.    0.6  25.5]\n",
      "[  0.  10. 120.   0.  30.]\n"
     ]
    }
   ],
   "source": [
    "a = np.array([1.0, 5.55, 123, 0.567, 25.532])\n",
    "print(np.around(a))\n",
    "print (np.around(a, decimals =  1))\n",
    "print (np.around(a, decimals =  -1))"
   ]
  },
  {
   "cell_type": "markdown",
   "id": "48a42cf4",
   "metadata": {},
   "source": [
    "### numpy.floor() & numpy.ceil()\n",
    "两个函数分别向下或向上取整"
   ]
  },
  {
   "cell_type": "code",
   "execution_count": 28,
   "id": "418607e6",
   "metadata": {},
   "outputs": [
    {
     "name": "stdout",
     "output_type": "stream",
     "text": [
      "[-2.  1. -1.  0. 10.]\n",
      "\n",
      "[-1.  2. -0.  1. 10.]\n"
     ]
    }
   ],
   "source": [
    "a = np.array([-1.7,  1.5,  -0.2,  0.6,  10])\n",
    "print(np.floor(a))\n",
    "print()\n",
    "print(np.ceil(a))"
   ]
  },
  {
   "cell_type": "markdown",
   "id": "ce24a379",
   "metadata": {},
   "source": [
    "# 算术函数\n",
    "算术函数包含简单的加减乘除: add()、subtract()、multiply()和divide()"
   ]
  },
  {
   "cell_type": "code",
   "execution_count": 30,
   "id": "df560f84",
   "metadata": {},
   "outputs": [
    {
     "name": "stdout",
     "output_type": "stream",
     "text": [
      "[[0. 1. 2.]\n",
      " [3. 4. 5.]\n",
      " [6. 7. 8.]]\n",
      "\n",
      "[10 10 10]\n",
      "\n",
      "[[10. 11. 12.]\n",
      " [13. 14. 15.]\n",
      " [16. 17. 18.]]\n",
      "\n",
      "[[-10.  -9.  -8.]\n",
      " [ -7.  -6.  -5.]\n",
      " [ -4.  -3.  -2.]]\n",
      "\n",
      "[[ 0. 10. 20.]\n",
      " [30. 40. 50.]\n",
      " [60. 70. 80.]]\n",
      "\n",
      "[[0.  0.1 0.2]\n",
      " [0.3 0.4 0.5]\n",
      " [0.6 0.7 0.8]]\n"
     ]
    }
   ],
   "source": [
    "a = np.arange(9, dtype = np.float_).reshape(3, 3)\n",
    "print(a)\n",
    "print()\n",
    "b = np.array([10, 10, 10])\n",
    "print(b)\n",
    "print()\n",
    "print(np.add(a, b))\n",
    "print()\n",
    "print(np.subtract(a, b))\n",
    "print()\n",
    "print(np.multiply(a, b))\n",
    "print()\n",
    "print(np.divide(a, b))"
   ]
  },
  {
   "cell_type": "markdown",
   "id": "54e7785b",
   "metadata": {},
   "source": [
    "### numpy.reciprocal\n",
    "返回参数逐元素的倒数"
   ]
  },
  {
   "cell_type": "code",
   "execution_count": 31,
   "id": "c36d0e49",
   "metadata": {},
   "outputs": [
    {
     "name": "stdout",
     "output_type": "stream",
     "text": [
      "[  0.25   1.33   1.   100.  ]\n",
      "[4.        0.7518797 1.        0.01     ]\n"
     ]
    }
   ],
   "source": [
    "a = np.array([0.25, 1.33, 1, 100])\n",
    "print(a)\n",
    "print(np.reciprocal(a))"
   ]
  },
  {
   "cell_type": "markdown",
   "id": "98f23ddb",
   "metadata": {},
   "source": [
    "### numpy.power()\n",
    "将第一和参数作为底数，计算它与第二个输入数组中相对应元素的幂"
   ]
  },
  {
   "cell_type": "code",
   "execution_count": 33,
   "id": "2b2e0e77",
   "metadata": {},
   "outputs": [
    {
     "name": "stdout",
     "output_type": "stream",
     "text": [
      "[  10  100 1000]\n",
      "\n",
      "[    100   10000 1000000]\n",
      "\n",
      "[1 2 3]\n",
      "\n",
      "[        10      10000 1000000000]\n"
     ]
    }
   ],
   "source": [
    "a = np.array([10, 100, 1000])\n",
    "print(a)\n",
    "print()\n",
    "print(np.power(a, 2))\n",
    "print()\n",
    "b = np.array([1, 2, 3])\n",
    "print(b)\n",
    "print()\n",
    "print(np.power(a, b))"
   ]
  },
  {
   "cell_type": "markdown",
   "id": "972ab1da",
   "metadata": {},
   "source": [
    "### numpy.mod() & numpy.remainder()\n",
    "计算输入数组中相应元素的相处后的余数"
   ]
  },
  {
   "cell_type": "code",
   "execution_count": 34,
   "id": "7643e654",
   "metadata": {},
   "outputs": [
    {
     "name": "stdout",
     "output_type": "stream",
     "text": [
      "[10 20 30]\n",
      "\n",
      "[3 5 7]\n",
      "\n",
      "[1 0 2]\n",
      "\n",
      "[1 0 2]\n"
     ]
    }
   ],
   "source": [
    "a = np.array([10, 20, 30])\n",
    "b = np.array([3, 5, 7])\n",
    "print(a)\n",
    "print()\n",
    "print(b)\n",
    "print()\n",
    "print(np.mod(a, b))\n",
    "print()\n",
    "print(np.remainder(a, b))"
   ]
  },
  {
   "cell_type": "markdown",
   "id": "c960b2f0",
   "metadata": {},
   "source": [
    "# 统计函数\n",
    "NumPy提供了很多统计函数，用于从数组中查找最小元素、最大元素、百分位标准差和方差等\n",
    "## numpy.amin() & numpy.amax()\n",
    "分别用于计算数组中的元素沿指定轴的最小值和最大值"
   ]
  },
  {
   "cell_type": "code",
   "execution_count": 51,
   "id": "1d4ecef4",
   "metadata": {},
   "outputs": [
    {
     "name": "stdout",
     "output_type": "stream",
     "text": [
      "[3 3 2]\n",
      "[2 4 3]\n",
      "9\n",
      "[8 7 9]\n"
     ]
    }
   ],
   "source": [
    "a = np.array([[3, 7, 5],\n",
    "                          [8, 4, 3],\n",
    "                          [2, 4 ,9]])\n",
    "print(np.amin(a, 1))\n",
    "print(np.amin(a, 0))\n",
    "print(np.amax(a))\n",
    "print(np.amax(a, axis = 0))"
   ]
  },
  {
   "cell_type": "markdown",
   "id": "6149361b",
   "metadata": {},
   "source": [
    "## numpy.ptp()\n",
    "计算数组中元素最大值与最小值的差"
   ]
  },
  {
   "cell_type": "code",
   "execution_count": 37,
   "id": "25409cc9",
   "metadata": {},
   "outputs": [
    {
     "name": "stdout",
     "output_type": "stream",
     "text": [
      "7\n",
      "[4 5 7]\n",
      "[6 3 6]\n"
     ]
    }
   ],
   "source": [
    "a = np.array([[3,7,5],[8,4,3],[2,4,9]]) \n",
    "print (np.ptp(a))\n",
    "print (np.ptp(a, axis =  1))\n",
    "print (np.ptp(a, axis =  0))"
   ]
  },
  {
   "cell_type": "markdown",
   "id": "37910559",
   "metadata": {},
   "source": [
    "## numpy.percentile()\n",
    "百分位数是统计中使用的度量，表示小于这个值的观察值百分比\n",
    "```py\n",
    "numpy.percentile(a, q, axis)\n",
    "```\n",
    "- q: 要计算的百分位数，在0~100之间\n",
    "- axis: 沿着它计算百分位数的轴"
   ]
  },
  {
   "cell_type": "code",
   "execution_count": 39,
   "id": "217cb0a8",
   "metadata": {},
   "outputs": [
    {
     "name": "stdout",
     "output_type": "stream",
     "text": [
      "[[10  7  4]\n",
      " [ 3  2  1]]\n",
      "3.5\n",
      "\n",
      "[6.5 4.5 2.5]\n",
      "\n",
      "[7. 2.]\n",
      "\n",
      "[[7.]\n",
      " [2.]]\n"
     ]
    }
   ],
   "source": [
    "a = np.array([[10, 7, 4], [3, 2, 1]])\n",
    "print(a)\n",
    "\n",
    "print(np.percentile(a, 50))\n",
    "print()\n",
    "print(np.percentile(a, 50, axis=0))\n",
    "print()\n",
    "print(np.percentile(a, 50 , axis=1))\n",
    "print()\n",
    "print(np.percentile(a, 50, axis=1, keepdims=True))"
   ]
  },
  {
   "cell_type": "markdown",
   "id": "9f02631b",
   "metadata": {},
   "source": [
    "## numpy.median() & numpy.mean() & numpy.average()\n",
    "分别计算数组的中位数、算术平均数和加权平均数"
   ]
  },
  {
   "cell_type": "code",
   "execution_count": 41,
   "id": "78942392",
   "metadata": {},
   "outputs": [
    {
     "name": "stdout",
     "output_type": "stream",
     "text": [
      "2.5\n",
      "2.0\n"
     ]
    }
   ],
   "source": [
    "a = np.array([1, 2, 3, 4])\n",
    "print(np.average(a))    #不指定权重时相当于算术平均数\n",
    "wts = np.array([4, 3, 2, 1])\n",
    "print(np.average(a, weights = wts))"
   ]
  },
  {
   "cell_type": "markdown",
   "id": "43abadef",
   "metadata": {},
   "source": [
    "## numpy.std() & numpy.var()\n",
    "分别计算数组的标准差和方差"
   ]
  },
  {
   "cell_type": "code",
   "execution_count": 42,
   "id": "1600a258",
   "metadata": {},
   "outputs": [
    {
     "name": "stdout",
     "output_type": "stream",
     "text": [
      "1.118033988749895\n",
      "1.25\n"
     ]
    }
   ],
   "source": [
    "print(np.std([1, 2, 3, 4]))\n",
    "print(np.var([1, 2, 3, 4]))"
   ]
  },
  {
   "cell_type": "markdown",
   "id": "ed7f5e4f",
   "metadata": {},
   "source": [
    "# 排序、条件刷选函数 \n",
    "NumPy提供了多种排序的方法，这些排序函数实现不同的排序算法，每个排序算法的特征在于执行速度、最坏情况性能、所需工作空间和稳定性\n",
    "\n",
    "下面显示了三种排序算法的比较"
   ]
  },
  {
   "cell_type": "markdown",
   "id": "3de961c0",
   "metadata": {},
   "source": [
    "|种类|\t速度|\t最坏情况|\t工作空间|\t稳定性|\n",
    "|:---:|:---:|:---:|:---:|:---:|\n",
    "|'quicksort'（快速排序）|\t1|\tO(n^2)|\t0|\t否|\n",
    "|'mergesort'（归并排序）\t|2|\tO(n*log(n))\t|~n/2|\t是|\n",
    "|'heapsort'（堆排序）\t|3|\tO(n*log(n))|\t0|\t否|"
   ]
  },
  {
   "cell_type": "markdown",
   "id": "e15a90a0",
   "metadata": {},
   "source": [
    "## numpy.sort()\n",
    "函数返回输入数组的排序副本\n",
    "```python\n",
    "numpy.sort(a, axis, kind, order)\n",
    "```\n",
    "- axis：沿着它排序数组的轴，如果不给定轴，数组会被展开；为0时按列排序，为1时按行排序\n",
    "- kind：默认为'quicksort'（快速排序）\n",
    "- order：如果数组包含字段，则是要排序的字段"
   ]
  },
  {
   "cell_type": "code",
   "execution_count": 54,
   "id": "09fb104b",
   "metadata": {},
   "outputs": [
    {
     "name": "stdout",
     "output_type": "stream",
     "text": [
      "[[3 7]\n",
      " [9 1]]\n",
      "\n",
      "[[3 7]\n",
      " [1 9]]\n",
      "\n",
      "[[3 1]\n",
      " [9 7]]\n",
      "\n"
     ]
    }
   ],
   "source": [
    "a = np.array([[3, 7], [9, 1]])\n",
    "print(a)\n",
    "print()\n",
    "print(np.sort(a))\n",
    "print()\n",
    "print(np.sort(a, axis=0))    #按列排序\n",
    "print()\n",
    "#在sort函数中排序字段\n",
    "dt = np.dtype([('name', 'S10'), ('age', int)])"
   ]
  },
  {
   "cell_type": "code",
   "execution_count": null,
   "id": "a9cfce47",
   "metadata": {},
   "outputs": [],
   "source": []
  },
  {
   "cell_type": "code",
   "execution_count": null,
   "id": "299efe6c",
   "metadata": {},
   "outputs": [],
   "source": []
  },
  {
   "cell_type": "code",
   "execution_count": null,
   "id": "4b816599",
   "metadata": {},
   "outputs": [],
   "source": []
  },
  {
   "cell_type": "code",
   "execution_count": null,
   "id": "80fdfaaf",
   "metadata": {},
   "outputs": [],
   "source": []
  },
  {
   "cell_type": "code",
   "execution_count": null,
   "id": "4e353868",
   "metadata": {},
   "outputs": [],
   "source": []
  },
  {
   "cell_type": "code",
   "execution_count": null,
   "id": "b31a38ac",
   "metadata": {},
   "outputs": [],
   "source": []
  },
  {
   "cell_type": "code",
   "execution_count": null,
   "id": "b3558638",
   "metadata": {},
   "outputs": [],
   "source": []
  },
  {
   "cell_type": "code",
   "execution_count": null,
   "id": "13e5897a",
   "metadata": {},
   "outputs": [],
   "source": []
  },
  {
   "cell_type": "code",
   "execution_count": null,
   "id": "7511b1d5",
   "metadata": {},
   "outputs": [],
   "source": []
  },
  {
   "cell_type": "code",
   "execution_count": null,
   "id": "062f57a6",
   "metadata": {},
   "outputs": [],
   "source": []
  },
  {
   "cell_type": "code",
   "execution_count": null,
   "id": "5d4fbd36",
   "metadata": {},
   "outputs": [],
   "source": []
  },
  {
   "cell_type": "code",
   "execution_count": null,
   "id": "b3915b0e",
   "metadata": {},
   "outputs": [],
   "source": []
  },
  {
   "cell_type": "code",
   "execution_count": null,
   "id": "deef5801",
   "metadata": {},
   "outputs": [],
   "source": []
  },
  {
   "cell_type": "code",
   "execution_count": null,
   "id": "411b4f66",
   "metadata": {},
   "outputs": [],
   "source": []
  },
  {
   "cell_type": "code",
   "execution_count": null,
   "id": "9e97722a",
   "metadata": {},
   "outputs": [],
   "source": []
  },
  {
   "cell_type": "code",
   "execution_count": null,
   "id": "6ce45c86",
   "metadata": {},
   "outputs": [],
   "source": []
  },
  {
   "cell_type": "code",
   "execution_count": null,
   "id": "a28846dc",
   "metadata": {},
   "outputs": [],
   "source": []
  },
  {
   "cell_type": "code",
   "execution_count": null,
   "id": "3217bf1b",
   "metadata": {},
   "outputs": [],
   "source": []
  },
  {
   "cell_type": "code",
   "execution_count": null,
   "id": "124c34d6",
   "metadata": {},
   "outputs": [],
   "source": []
  },
  {
   "cell_type": "code",
   "execution_count": null,
   "id": "4de9f45e",
   "metadata": {},
   "outputs": [],
   "source": []
  },
  {
   "cell_type": "code",
   "execution_count": null,
   "id": "b29203d6",
   "metadata": {},
   "outputs": [],
   "source": []
  },
  {
   "cell_type": "code",
   "execution_count": null,
   "id": "e87502dd",
   "metadata": {},
   "outputs": [],
   "source": []
  },
  {
   "cell_type": "code",
   "execution_count": null,
   "id": "84d1d529",
   "metadata": {},
   "outputs": [],
   "source": []
  },
  {
   "cell_type": "code",
   "execution_count": null,
   "id": "b1b28def",
   "metadata": {},
   "outputs": [],
   "source": []
  },
  {
   "cell_type": "code",
   "execution_count": null,
   "id": "52029463",
   "metadata": {},
   "outputs": [],
   "source": []
  },
  {
   "cell_type": "code",
   "execution_count": null,
   "id": "d15dce7b",
   "metadata": {},
   "outputs": [],
   "source": []
  },
  {
   "cell_type": "code",
   "execution_count": null,
   "id": "c1e934df",
   "metadata": {},
   "outputs": [],
   "source": []
  },
  {
   "cell_type": "code",
   "execution_count": null,
   "id": "eae30ef1",
   "metadata": {},
   "outputs": [],
   "source": []
  },
  {
   "cell_type": "code",
   "execution_count": null,
   "id": "8b3b1441",
   "metadata": {},
   "outputs": [],
   "source": []
  },
  {
   "cell_type": "code",
   "execution_count": null,
   "id": "e57b97e4",
   "metadata": {},
   "outputs": [],
   "source": []
  },
  {
   "cell_type": "code",
   "execution_count": null,
   "id": "785290e3",
   "metadata": {},
   "outputs": [],
   "source": []
  },
  {
   "cell_type": "code",
   "execution_count": null,
   "id": "c1397f24",
   "metadata": {},
   "outputs": [],
   "source": []
  },
  {
   "cell_type": "code",
   "execution_count": null,
   "id": "891a2e99",
   "metadata": {},
   "outputs": [],
   "source": []
  },
  {
   "cell_type": "code",
   "execution_count": null,
   "id": "f4161102",
   "metadata": {},
   "outputs": [],
   "source": []
  },
  {
   "cell_type": "code",
   "execution_count": null,
   "id": "0953afd4",
   "metadata": {},
   "outputs": [],
   "source": []
  },
  {
   "cell_type": "code",
   "execution_count": null,
   "id": "3c64c3ed",
   "metadata": {},
   "outputs": [],
   "source": []
  },
  {
   "cell_type": "code",
   "execution_count": null,
   "id": "a93e76b1",
   "metadata": {},
   "outputs": [],
   "source": []
  },
  {
   "cell_type": "code",
   "execution_count": null,
   "id": "8eb13cc0",
   "metadata": {},
   "outputs": [],
   "source": []
  },
  {
   "cell_type": "code",
   "execution_count": null,
   "id": "9c4cfaeb",
   "metadata": {},
   "outputs": [],
   "source": []
  },
  {
   "cell_type": "code",
   "execution_count": null,
   "id": "3be3c3c0",
   "metadata": {},
   "outputs": [],
   "source": []
  },
  {
   "cell_type": "code",
   "execution_count": null,
   "id": "4a2ee689",
   "metadata": {},
   "outputs": [],
   "source": []
  },
  {
   "cell_type": "code",
   "execution_count": null,
   "id": "ccb0740d",
   "metadata": {},
   "outputs": [],
   "source": []
  },
  {
   "cell_type": "code",
   "execution_count": null,
   "id": "ce9b88f8",
   "metadata": {},
   "outputs": [],
   "source": []
  },
  {
   "cell_type": "code",
   "execution_count": null,
   "id": "d632ce10",
   "metadata": {},
   "outputs": [],
   "source": []
  },
  {
   "cell_type": "code",
   "execution_count": null,
   "id": "f9abf856",
   "metadata": {},
   "outputs": [],
   "source": []
  },
  {
   "cell_type": "code",
   "execution_count": null,
   "id": "c185a4a3",
   "metadata": {},
   "outputs": [],
   "source": []
  },
  {
   "cell_type": "code",
   "execution_count": null,
   "id": "baf7b55c",
   "metadata": {},
   "outputs": [],
   "source": []
  },
  {
   "cell_type": "code",
   "execution_count": null,
   "id": "98259614",
   "metadata": {},
   "outputs": [],
   "source": []
  },
  {
   "cell_type": "code",
   "execution_count": null,
   "id": "84a5123a",
   "metadata": {},
   "outputs": [],
   "source": []
  },
  {
   "cell_type": "code",
   "execution_count": null,
   "id": "f2911fed",
   "metadata": {},
   "outputs": [],
   "source": []
  },
  {
   "cell_type": "code",
   "execution_count": null,
   "id": "27d8d60a",
   "metadata": {},
   "outputs": [],
   "source": []
  },
  {
   "cell_type": "code",
   "execution_count": null,
   "id": "97b14594",
   "metadata": {},
   "outputs": [],
   "source": []
  },
  {
   "cell_type": "code",
   "execution_count": null,
   "id": "dc125a56",
   "metadata": {},
   "outputs": [],
   "source": []
  },
  {
   "cell_type": "code",
   "execution_count": null,
   "id": "1818927f",
   "metadata": {},
   "outputs": [],
   "source": []
  },
  {
   "cell_type": "code",
   "execution_count": null,
   "id": "57c87190",
   "metadata": {},
   "outputs": [],
   "source": []
  },
  {
   "cell_type": "code",
   "execution_count": null,
   "id": "d20a89c8",
   "metadata": {},
   "outputs": [],
   "source": []
  },
  {
   "cell_type": "code",
   "execution_count": null,
   "id": "6a13aabd",
   "metadata": {},
   "outputs": [],
   "source": []
  },
  {
   "cell_type": "code",
   "execution_count": null,
   "id": "1cee72eb",
   "metadata": {},
   "outputs": [],
   "source": []
  },
  {
   "cell_type": "code",
   "execution_count": null,
   "id": "d51cc6c5",
   "metadata": {},
   "outputs": [],
   "source": []
  },
  {
   "cell_type": "code",
   "execution_count": null,
   "id": "aadbe237",
   "metadata": {},
   "outputs": [],
   "source": []
  },
  {
   "cell_type": "code",
   "execution_count": null,
   "id": "ef78291d",
   "metadata": {},
   "outputs": [],
   "source": []
  },
  {
   "cell_type": "code",
   "execution_count": null,
   "id": "6afde36a",
   "metadata": {},
   "outputs": [],
   "source": []
  },
  {
   "cell_type": "code",
   "execution_count": null,
   "id": "605b65f5",
   "metadata": {},
   "outputs": [],
   "source": []
  },
  {
   "cell_type": "code",
   "execution_count": null,
   "id": "6ab9eb95",
   "metadata": {},
   "outputs": [],
   "source": []
  },
  {
   "cell_type": "code",
   "execution_count": null,
   "id": "de235aac",
   "metadata": {},
   "outputs": [],
   "source": []
  },
  {
   "cell_type": "code",
   "execution_count": null,
   "id": "4a58a851",
   "metadata": {},
   "outputs": [],
   "source": []
  },
  {
   "cell_type": "code",
   "execution_count": null,
   "id": "c943a57c",
   "metadata": {},
   "outputs": [],
   "source": []
  },
  {
   "cell_type": "code",
   "execution_count": null,
   "id": "90816b1b",
   "metadata": {},
   "outputs": [],
   "source": []
  },
  {
   "cell_type": "code",
   "execution_count": null,
   "id": "6c80cf61",
   "metadata": {},
   "outputs": [],
   "source": []
  },
  {
   "cell_type": "code",
   "execution_count": null,
   "id": "f06a35fd",
   "metadata": {},
   "outputs": [],
   "source": []
  },
  {
   "cell_type": "code",
   "execution_count": null,
   "id": "3d94cb4a",
   "metadata": {},
   "outputs": [],
   "source": []
  },
  {
   "cell_type": "code",
   "execution_count": null,
   "id": "82e150c2",
   "metadata": {},
   "outputs": [],
   "source": []
  },
  {
   "cell_type": "code",
   "execution_count": null,
   "id": "84b30704",
   "metadata": {},
   "outputs": [],
   "source": []
  },
  {
   "cell_type": "code",
   "execution_count": null,
   "id": "d86b0245",
   "metadata": {},
   "outputs": [],
   "source": []
  },
  {
   "cell_type": "code",
   "execution_count": null,
   "id": "3b3a18dd",
   "metadata": {},
   "outputs": [],
   "source": []
  },
  {
   "cell_type": "code",
   "execution_count": null,
   "id": "c9862793",
   "metadata": {},
   "outputs": [],
   "source": []
  },
  {
   "cell_type": "code",
   "execution_count": null,
   "id": "3f5fda60",
   "metadata": {},
   "outputs": [],
   "source": []
  },
  {
   "cell_type": "code",
   "execution_count": null,
   "id": "7b30bf0c",
   "metadata": {},
   "outputs": [],
   "source": []
  },
  {
   "cell_type": "code",
   "execution_count": null,
   "id": "4ca5f8eb",
   "metadata": {},
   "outputs": [],
   "source": []
  },
  {
   "cell_type": "code",
   "execution_count": null,
   "id": "fc7c4ff2",
   "metadata": {},
   "outputs": [],
   "source": []
  },
  {
   "cell_type": "code",
   "execution_count": null,
   "id": "24ea4362",
   "metadata": {},
   "outputs": [],
   "source": []
  },
  {
   "cell_type": "code",
   "execution_count": null,
   "id": "d03ec3ba",
   "metadata": {},
   "outputs": [],
   "source": []
  },
  {
   "cell_type": "code",
   "execution_count": null,
   "id": "3eab74c8",
   "metadata": {},
   "outputs": [],
   "source": []
  },
  {
   "cell_type": "code",
   "execution_count": null,
   "id": "cb5828e8",
   "metadata": {},
   "outputs": [],
   "source": []
  },
  {
   "cell_type": "code",
   "execution_count": null,
   "id": "a76e4e68",
   "metadata": {},
   "outputs": [],
   "source": []
  },
  {
   "cell_type": "code",
   "execution_count": null,
   "id": "b814595c",
   "metadata": {},
   "outputs": [],
   "source": []
  },
  {
   "cell_type": "code",
   "execution_count": null,
   "id": "d26117b2",
   "metadata": {},
   "outputs": [],
   "source": []
  },
  {
   "cell_type": "code",
   "execution_count": null,
   "id": "999837fb",
   "metadata": {},
   "outputs": [],
   "source": []
  },
  {
   "cell_type": "code",
   "execution_count": null,
   "id": "b4d00770",
   "metadata": {},
   "outputs": [],
   "source": []
  },
  {
   "cell_type": "code",
   "execution_count": null,
   "id": "aafb0677",
   "metadata": {},
   "outputs": [],
   "source": []
  },
  {
   "cell_type": "code",
   "execution_count": null,
   "id": "51119dbe",
   "metadata": {},
   "outputs": [],
   "source": []
  },
  {
   "cell_type": "code",
   "execution_count": null,
   "id": "7f0daad8",
   "metadata": {},
   "outputs": [],
   "source": []
  },
  {
   "cell_type": "code",
   "execution_count": null,
   "id": "89fe4c69",
   "metadata": {},
   "outputs": [],
   "source": []
  },
  {
   "cell_type": "code",
   "execution_count": null,
   "id": "795cdcf6",
   "metadata": {},
   "outputs": [],
   "source": []
  },
  {
   "cell_type": "code",
   "execution_count": null,
   "id": "a7bf43fa",
   "metadata": {},
   "outputs": [],
   "source": []
  },
  {
   "cell_type": "code",
   "execution_count": null,
   "id": "f4bb05f2",
   "metadata": {},
   "outputs": [],
   "source": []
  },
  {
   "cell_type": "code",
   "execution_count": null,
   "id": "78b4a8f2",
   "metadata": {},
   "outputs": [],
   "source": []
  },
  {
   "cell_type": "code",
   "execution_count": null,
   "id": "cf7e7f70",
   "metadata": {},
   "outputs": [],
   "source": []
  },
  {
   "cell_type": "code",
   "execution_count": null,
   "id": "e41ee7db",
   "metadata": {},
   "outputs": [],
   "source": []
  },
  {
   "cell_type": "code",
   "execution_count": null,
   "id": "a49a2243",
   "metadata": {},
   "outputs": [],
   "source": []
  },
  {
   "cell_type": "code",
   "execution_count": null,
   "id": "de283e79",
   "metadata": {},
   "outputs": [],
   "source": []
  },
  {
   "cell_type": "code",
   "execution_count": null,
   "id": "acb6f72e",
   "metadata": {},
   "outputs": [],
   "source": []
  },
  {
   "cell_type": "code",
   "execution_count": null,
   "id": "0723d07c",
   "metadata": {},
   "outputs": [],
   "source": []
  },
  {
   "cell_type": "code",
   "execution_count": null,
   "id": "9068a9b1",
   "metadata": {},
   "outputs": [],
   "source": []
  },
  {
   "cell_type": "code",
   "execution_count": null,
   "id": "65fc46c8",
   "metadata": {},
   "outputs": [],
   "source": []
  },
  {
   "cell_type": "code",
   "execution_count": null,
   "id": "ed5a47da",
   "metadata": {},
   "outputs": [],
   "source": []
  },
  {
   "cell_type": "code",
   "execution_count": null,
   "id": "0cf5cb16",
   "metadata": {},
   "outputs": [],
   "source": []
  },
  {
   "cell_type": "code",
   "execution_count": null,
   "id": "7e939ab9",
   "metadata": {},
   "outputs": [],
   "source": []
  },
  {
   "cell_type": "code",
   "execution_count": null,
   "id": "c4e78a0e",
   "metadata": {},
   "outputs": [],
   "source": []
  },
  {
   "cell_type": "code",
   "execution_count": null,
   "id": "27aebed8",
   "metadata": {},
   "outputs": [],
   "source": []
  },
  {
   "cell_type": "code",
   "execution_count": null,
   "id": "5cfb0440",
   "metadata": {},
   "outputs": [],
   "source": []
  },
  {
   "cell_type": "code",
   "execution_count": null,
   "id": "29c157e3",
   "metadata": {},
   "outputs": [],
   "source": []
  },
  {
   "cell_type": "code",
   "execution_count": null,
   "id": "5d7402ae",
   "metadata": {},
   "outputs": [],
   "source": []
  },
  {
   "cell_type": "code",
   "execution_count": null,
   "id": "4e3b8722",
   "metadata": {},
   "outputs": [],
   "source": []
  },
  {
   "cell_type": "code",
   "execution_count": null,
   "id": "2ea0b8d6",
   "metadata": {},
   "outputs": [],
   "source": []
  },
  {
   "cell_type": "code",
   "execution_count": null,
   "id": "52096099",
   "metadata": {},
   "outputs": [],
   "source": []
  },
  {
   "cell_type": "code",
   "execution_count": null,
   "id": "becca7c8",
   "metadata": {},
   "outputs": [],
   "source": []
  },
  {
   "cell_type": "code",
   "execution_count": null,
   "id": "de47b8a2",
   "metadata": {},
   "outputs": [],
   "source": []
  },
  {
   "cell_type": "code",
   "execution_count": null,
   "id": "8e7c624e",
   "metadata": {},
   "outputs": [],
   "source": []
  },
  {
   "cell_type": "code",
   "execution_count": null,
   "id": "70b5d75e",
   "metadata": {},
   "outputs": [],
   "source": []
  },
  {
   "cell_type": "code",
   "execution_count": null,
   "id": "5aa10a61",
   "metadata": {},
   "outputs": [],
   "source": []
  },
  {
   "cell_type": "code",
   "execution_count": null,
   "id": "0e1fdc96",
   "metadata": {},
   "outputs": [],
   "source": []
  },
  {
   "cell_type": "code",
   "execution_count": null,
   "id": "181621ac",
   "metadata": {},
   "outputs": [],
   "source": []
  },
  {
   "cell_type": "code",
   "execution_count": null,
   "id": "4bb87b11",
   "metadata": {},
   "outputs": [],
   "source": []
  },
  {
   "cell_type": "code",
   "execution_count": null,
   "id": "c09e9cfd",
   "metadata": {},
   "outputs": [],
   "source": []
  },
  {
   "cell_type": "code",
   "execution_count": null,
   "id": "3671654a",
   "metadata": {},
   "outputs": [],
   "source": []
  },
  {
   "cell_type": "code",
   "execution_count": null,
   "id": "232740f1",
   "metadata": {},
   "outputs": [],
   "source": []
  },
  {
   "cell_type": "code",
   "execution_count": null,
   "id": "d19b17dc",
   "metadata": {},
   "outputs": [],
   "source": []
  },
  {
   "cell_type": "code",
   "execution_count": null,
   "id": "e7c493bd",
   "metadata": {},
   "outputs": [],
   "source": []
  },
  {
   "cell_type": "code",
   "execution_count": null,
   "id": "6c3e437d",
   "metadata": {},
   "outputs": [],
   "source": []
  },
  {
   "cell_type": "code",
   "execution_count": null,
   "id": "3cd2c69c",
   "metadata": {},
   "outputs": [],
   "source": []
  },
  {
   "cell_type": "code",
   "execution_count": null,
   "id": "a1b7b03b",
   "metadata": {},
   "outputs": [],
   "source": []
  },
  {
   "cell_type": "code",
   "execution_count": null,
   "id": "2de77681",
   "metadata": {},
   "outputs": [],
   "source": []
  },
  {
   "cell_type": "code",
   "execution_count": null,
   "id": "25c5115f",
   "metadata": {},
   "outputs": [],
   "source": []
  },
  {
   "cell_type": "code",
   "execution_count": null,
   "id": "faa470fc",
   "metadata": {},
   "outputs": [],
   "source": []
  },
  {
   "cell_type": "code",
   "execution_count": null,
   "id": "81cb970d",
   "metadata": {},
   "outputs": [],
   "source": []
  },
  {
   "cell_type": "code",
   "execution_count": null,
   "id": "b669f978",
   "metadata": {},
   "outputs": [],
   "source": []
  },
  {
   "cell_type": "code",
   "execution_count": null,
   "id": "9b379692",
   "metadata": {},
   "outputs": [],
   "source": []
  },
  {
   "cell_type": "code",
   "execution_count": null,
   "id": "82335434",
   "metadata": {},
   "outputs": [],
   "source": []
  },
  {
   "cell_type": "code",
   "execution_count": null,
   "id": "f0b1d9a4",
   "metadata": {},
   "outputs": [],
   "source": []
  },
  {
   "cell_type": "code",
   "execution_count": null,
   "id": "18d05760",
   "metadata": {},
   "outputs": [],
   "source": []
  },
  {
   "cell_type": "code",
   "execution_count": null,
   "id": "b527e08b",
   "metadata": {},
   "outputs": [],
   "source": []
  },
  {
   "cell_type": "code",
   "execution_count": null,
   "id": "faddb8be",
   "metadata": {},
   "outputs": [],
   "source": []
  },
  {
   "cell_type": "code",
   "execution_count": null,
   "id": "d9afaa1f",
   "metadata": {},
   "outputs": [],
   "source": []
  },
  {
   "cell_type": "code",
   "execution_count": null,
   "id": "463a8deb",
   "metadata": {},
   "outputs": [],
   "source": []
  },
  {
   "cell_type": "code",
   "execution_count": null,
   "id": "1592c61c",
   "metadata": {},
   "outputs": [],
   "source": []
  },
  {
   "cell_type": "code",
   "execution_count": null,
   "id": "4da09329",
   "metadata": {},
   "outputs": [],
   "source": []
  },
  {
   "cell_type": "code",
   "execution_count": null,
   "id": "36213e84",
   "metadata": {},
   "outputs": [],
   "source": []
  },
  {
   "cell_type": "code",
   "execution_count": null,
   "id": "5cd3bfb4",
   "metadata": {},
   "outputs": [],
   "source": []
  },
  {
   "cell_type": "code",
   "execution_count": null,
   "id": "2dad77ef",
   "metadata": {},
   "outputs": [],
   "source": []
  },
  {
   "cell_type": "code",
   "execution_count": null,
   "id": "1898eac9",
   "metadata": {},
   "outputs": [],
   "source": []
  },
  {
   "cell_type": "code",
   "execution_count": null,
   "id": "34842e99",
   "metadata": {},
   "outputs": [],
   "source": []
  },
  {
   "cell_type": "code",
   "execution_count": null,
   "id": "98bb2bc7",
   "metadata": {},
   "outputs": [],
   "source": []
  },
  {
   "cell_type": "code",
   "execution_count": null,
   "id": "7fee4eae",
   "metadata": {},
   "outputs": [],
   "source": []
  },
  {
   "cell_type": "code",
   "execution_count": null,
   "id": "63b5a43c",
   "metadata": {},
   "outputs": [],
   "source": []
  },
  {
   "cell_type": "code",
   "execution_count": null,
   "id": "8a20cac6",
   "metadata": {},
   "outputs": [],
   "source": []
  },
  {
   "cell_type": "code",
   "execution_count": null,
   "id": "58d5491a",
   "metadata": {},
   "outputs": [],
   "source": []
  },
  {
   "cell_type": "code",
   "execution_count": null,
   "id": "cdfe18fc",
   "metadata": {},
   "outputs": [],
   "source": []
  },
  {
   "cell_type": "code",
   "execution_count": null,
   "id": "681c6956",
   "metadata": {},
   "outputs": [],
   "source": []
  },
  {
   "cell_type": "code",
   "execution_count": null,
   "id": "9e42db36",
   "metadata": {},
   "outputs": [],
   "source": []
  },
  {
   "cell_type": "code",
   "execution_count": null,
   "id": "8b425c0d",
   "metadata": {},
   "outputs": [],
   "source": []
  },
  {
   "cell_type": "code",
   "execution_count": null,
   "id": "05c26514",
   "metadata": {},
   "outputs": [],
   "source": []
  },
  {
   "cell_type": "code",
   "execution_count": null,
   "id": "025b4e6b",
   "metadata": {},
   "outputs": [],
   "source": []
  },
  {
   "cell_type": "code",
   "execution_count": null,
   "id": "a9aa63f3",
   "metadata": {},
   "outputs": [],
   "source": []
  },
  {
   "cell_type": "code",
   "execution_count": null,
   "id": "45fbab12",
   "metadata": {},
   "outputs": [],
   "source": []
  },
  {
   "cell_type": "code",
   "execution_count": null,
   "id": "c53e2947",
   "metadata": {},
   "outputs": [],
   "source": []
  },
  {
   "cell_type": "code",
   "execution_count": null,
   "id": "e54a977e",
   "metadata": {},
   "outputs": [],
   "source": []
  },
  {
   "cell_type": "code",
   "execution_count": null,
   "id": "9b9e328d",
   "metadata": {},
   "outputs": [],
   "source": []
  },
  {
   "cell_type": "code",
   "execution_count": null,
   "id": "8dec2dd0",
   "metadata": {},
   "outputs": [],
   "source": []
  },
  {
   "cell_type": "code",
   "execution_count": null,
   "id": "7c2cee73",
   "metadata": {},
   "outputs": [],
   "source": []
  },
  {
   "cell_type": "code",
   "execution_count": null,
   "id": "7b6117bd",
   "metadata": {},
   "outputs": [],
   "source": []
  },
  {
   "cell_type": "code",
   "execution_count": null,
   "id": "c9e146f5",
   "metadata": {},
   "outputs": [],
   "source": []
  },
  {
   "cell_type": "code",
   "execution_count": null,
   "id": "a1a06b7d",
   "metadata": {},
   "outputs": [],
   "source": []
  },
  {
   "cell_type": "code",
   "execution_count": null,
   "id": "98e26904",
   "metadata": {},
   "outputs": [],
   "source": []
  },
  {
   "cell_type": "code",
   "execution_count": null,
   "id": "da5b7f8d",
   "metadata": {},
   "outputs": [],
   "source": []
  },
  {
   "cell_type": "code",
   "execution_count": null,
   "id": "19fb87d9",
   "metadata": {},
   "outputs": [],
   "source": []
  },
  {
   "cell_type": "code",
   "execution_count": null,
   "id": "9d673d30",
   "metadata": {},
   "outputs": [],
   "source": []
  },
  {
   "cell_type": "code",
   "execution_count": null,
   "id": "5addc5cf",
   "metadata": {},
   "outputs": [],
   "source": []
  },
  {
   "cell_type": "code",
   "execution_count": null,
   "id": "e18e33bc",
   "metadata": {},
   "outputs": [],
   "source": []
  },
  {
   "cell_type": "code",
   "execution_count": null,
   "id": "c5e8775f",
   "metadata": {},
   "outputs": [],
   "source": []
  },
  {
   "cell_type": "code",
   "execution_count": null,
   "id": "c1dcd3bb",
   "metadata": {},
   "outputs": [],
   "source": []
  },
  {
   "cell_type": "code",
   "execution_count": null,
   "id": "6133c58c",
   "metadata": {},
   "outputs": [],
   "source": []
  },
  {
   "cell_type": "code",
   "execution_count": null,
   "id": "698cc13a",
   "metadata": {},
   "outputs": [],
   "source": []
  },
  {
   "cell_type": "code",
   "execution_count": null,
   "id": "499851c6",
   "metadata": {},
   "outputs": [],
   "source": []
  },
  {
   "cell_type": "code",
   "execution_count": null,
   "id": "ed522521",
   "metadata": {},
   "outputs": [],
   "source": []
  },
  {
   "cell_type": "code",
   "execution_count": null,
   "id": "32fd1ce6",
   "metadata": {},
   "outputs": [],
   "source": []
  },
  {
   "cell_type": "code",
   "execution_count": null,
   "id": "d6b170d8",
   "metadata": {},
   "outputs": [],
   "source": []
  },
  {
   "cell_type": "code",
   "execution_count": null,
   "id": "7624c8ca",
   "metadata": {},
   "outputs": [],
   "source": []
  },
  {
   "cell_type": "code",
   "execution_count": null,
   "id": "a71e085d",
   "metadata": {},
   "outputs": [],
   "source": []
  },
  {
   "cell_type": "code",
   "execution_count": null,
   "id": "02dfaa35",
   "metadata": {},
   "outputs": [],
   "source": []
  },
  {
   "cell_type": "code",
   "execution_count": null,
   "id": "d37c0bbc",
   "metadata": {},
   "outputs": [],
   "source": []
  },
  {
   "cell_type": "code",
   "execution_count": null,
   "id": "a3a755d4",
   "metadata": {},
   "outputs": [],
   "source": []
  },
  {
   "cell_type": "code",
   "execution_count": null,
   "id": "019e5ea0",
   "metadata": {},
   "outputs": [],
   "source": []
  },
  {
   "cell_type": "code",
   "execution_count": null,
   "id": "b76b7b51",
   "metadata": {},
   "outputs": [],
   "source": []
  },
  {
   "cell_type": "code",
   "execution_count": null,
   "id": "45490e49",
   "metadata": {},
   "outputs": [],
   "source": []
  },
  {
   "cell_type": "code",
   "execution_count": null,
   "id": "7f9c9880",
   "metadata": {},
   "outputs": [],
   "source": []
  },
  {
   "cell_type": "code",
   "execution_count": null,
   "id": "3ba74061",
   "metadata": {},
   "outputs": [],
   "source": []
  },
  {
   "cell_type": "code",
   "execution_count": null,
   "id": "a9090d7b",
   "metadata": {},
   "outputs": [],
   "source": []
  },
  {
   "cell_type": "code",
   "execution_count": null,
   "id": "e1044bde",
   "metadata": {},
   "outputs": [],
   "source": []
  }
 ],
 "metadata": {
  "kernelspec": {
   "display_name": "Python 3 (ipykernel)",
   "language": "python",
   "name": "python3"
  },
  "language_info": {
   "codemirror_mode": {
    "name": "ipython",
    "version": 3
   },
   "file_extension": ".py",
   "mimetype": "text/x-python",
   "name": "python",
   "nbconvert_exporter": "python",
   "pygments_lexer": "ipython3",
   "version": "3.9.12"
  }
 },
 "nbformat": 4,
 "nbformat_minor": 5
}
